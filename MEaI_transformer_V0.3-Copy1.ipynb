{
 "cells": [
  {
   "cell_type": "markdown",
   "id": "cd705b4c-7eee-4281-bd96-80479ceef1b3",
   "metadata": {},
   "source": [
    "기본값 : 0  \n",
    "INFO 로그 필터링 : 1  \n",
    "WARNING 로그 필터링 : 2  \n",
    "ERROR 로그 필터링 : 3  "
   ]
  },
  {
   "cell_type": "code",
   "execution_count": 1,
   "id": "cb7a1e93-46ba-47a8-ade9-ab1765392b22",
   "metadata": {},
   "outputs": [],
   "source": [
    "import os\n",
    "\n",
    "os.environ['TF_CPP_MIN_LOG_LEVEL'] = '2'\n",
    "\n",
    "os.environ[\"CUDA_DEVICE_ORDER\"]=\"PCI_BUS_ID\"\n",
    "os.environ[\"CUDA_VISIBLE_DEVICES\"]=\"1\""
   ]
  },
  {
   "cell_type": "code",
   "execution_count": 2,
   "id": "e0029327-7ea8-4a11-8a7b-5437df5dd151",
   "metadata": {
    "scrolled": true,
    "tags": []
   },
   "outputs": [
    {
     "name": "stderr",
     "output_type": "stream",
     "text": [
      "2022-12-02 15:32:35.771790: E tensorflow/stream_executor/cuda/cuda_blas.cc:2981] Unable to register cuBLAS factory: Attempting to register factory for plugin cuBLAS when one has already been registered\n"
     ]
    },
    {
     "data": {
      "text/plain": [
       "[name: \"/device:CPU:0\"\n",
       " device_type: \"CPU\"\n",
       " memory_limit: 268435456\n",
       " locality {\n",
       " }\n",
       " incarnation: 3590630121869482113\n",
       " xla_global_id: -1,\n",
       " name: \"/device:GPU:0\"\n",
       " device_type: \"GPU\"\n",
       " memory_limit: 11669929984\n",
       " locality {\n",
       "   bus_id: 1\n",
       "   links {\n",
       "   }\n",
       " }\n",
       " incarnation: 13325824772541230604\n",
       " physical_device_desc: \"device: 0, name: NVIDIA TITAN Xp, pci bus id: 0000:b3:00.0, compute capability: 6.1\"\n",
       " xla_global_id: 416903419]"
      ]
     },
     "execution_count": 2,
     "metadata": {},
     "output_type": "execute_result"
    }
   ],
   "source": [
    "from tensorflow.python.client import device_lib\n",
    "device_lib.list_local_devices()"
   ]
  },
  {
   "cell_type": "code",
   "execution_count": 3,
   "id": "714bc948-2cc9-4ee7-ac04-68045adfbcc7",
   "metadata": {},
   "outputs": [
    {
     "name": "stdout",
     "output_type": "stream",
     "text": [
      "WARNING:tensorflow:From /tmp/ipykernel_2009507/2783800748.py:6: experimental_run_functions_eagerly (from tensorflow.python.eager.def_function) is deprecated and will be removed in a future version.\n",
      "Instructions for updating:\n",
      "Use `tf.config.run_functions_eagerly` instead of the experimental version.\n"
     ]
    }
   ],
   "source": [
    "import numpy as np\n",
    "import pandas as pd\n",
    "import matplotlib.pyplot as plt\n",
    "import seaborn as sns\n",
    "import tensorflow as tf\n",
    "tf.config.experimental_run_functions_eagerly(True)"
   ]
  },
  {
   "cell_type": "code",
   "execution_count": 4,
   "id": "64fd268b-b335-43ec-a498-625fc7a81479",
   "metadata": {},
   "outputs": [],
   "source": [
    "import matplotlib.font_manager as fm\n",
    "plt.rcParams['font.family'] = 'D2Coding'"
   ]
  },
  {
   "cell_type": "code",
   "execution_count": 5,
   "id": "6bc70556-f68f-431d-b1a6-14d6bff17846",
   "metadata": {},
   "outputs": [
    {
     "data": {
      "text/plain": [
       "'2.10.0'"
      ]
     },
     "execution_count": 5,
     "metadata": {},
     "output_type": "execute_result"
    }
   ],
   "source": [
    "tf.__version__"
   ]
  },
  {
   "cell_type": "code",
   "execution_count": 6,
   "id": "98476b13-a788-49b4-8124-84128d2f34ba",
   "metadata": {},
   "outputs": [],
   "source": [
    "from sklearn.preprocessing import StandardScaler,MinMaxScaler\n",
    "from tqdm import tqdm"
   ]
  },
  {
   "cell_type": "markdown",
   "id": "66a7ef97-1a13-4da0-89a3-e197c02c2ba6",
   "metadata": {},
   "source": [
    "# 트랜스포머 구현"
   ]
  },
  {
   "cell_type": "markdown",
   "id": "383ddbd7-440d-41d9-9398-0dc13b25d1ba",
   "metadata": {},
   "source": [
    "## 에셋 임베딩 레이어"
   ]
  },
  {
   "cell_type": "code",
   "execution_count": 16,
   "id": "638871f0-8ef9-4adc-99cd-b64c2888b12c",
   "metadata": {},
   "outputs": [],
   "source": [
    "class SeqAndPositionEmbedding(tf.keras.layers.Layer):\n",
    "    def __init__(self, window_size, d_model, is_decoder=False, **kwargs):\n",
    "        super(SeqAndPositionEmbedding, self).__init__(**kwargs)\n",
    "        self.d_model = d_model\n",
    "        self.is_decoder = is_decoder\n",
    "        self.__windowsize = window_size\n",
    "        \n",
    "        self.esset_emb = tf.keras.layers.Dense(self.d_model) #입력 데이터 shape : (batch_size, window_size)\n",
    "        self.pos_emb = tf.keras.layers.Embedding(self.__windowsize, self.d_model)\n",
    "    \n",
    "    def get_config(self):\n",
    "        config = super().get_config()\n",
    "        config.update({\n",
    "            \"d_model\": self.d_model,\n",
    "            \"__windowsize\":self.__windowsize,\n",
    "            \"is_decoder\":self.is_decoder,\n",
    "        })\n",
    "        return config\n",
    "    \n",
    "    def call(self, x):\n",
    "        L = tf.shape(x)[-1] if self.is_decoder else self.__windowsize\n",
    "        batch_size = tf.shape(x)[0]\n",
    "        \n",
    "        positions = tf.range(start=0, limit= L, delta=1)\n",
    "        positions = self.pos_emb(positions)\n",
    "        positions = positions[tf.newaxis,:]\n",
    "        x_ = tf.reshape(x,(batch_size,L,1))\n",
    "        x_ = self.esset_emb(x_)\n",
    "        \n",
    "        return x_ + positions"
   ]
  },
  {
   "cell_type": "markdown",
   "id": "e19145e5-d9da-4418-b3c2-fe13b9973c2a",
   "metadata": {},
   "source": [
    "## 인코더 레이어"
   ]
  },
  {
   "cell_type": "code",
   "execution_count": 17,
   "id": "6a04f127-cd00-4c10-9108-91eaa9ad40c1",
   "metadata": {},
   "outputs": [],
   "source": [
    "def encoder_layer(dff, d_model, num_heads, dropout, name=\"encoder_layer\"):\n",
    "    inputs = tf.keras.Input(shape=(None, d_model), name=\"inputs\")\n",
    "\n",
    "    # 이번 일에서는 패딩이 존재X -> 패딩마스크X\n",
    "\n",
    "    # 멀티-헤드 어텐션 (첫번째 서브층 / 셀프 어텐션)\n",
    "    assert d_model%num_heads==0,  f'It is in {name}'\n",
    "    d_model_each_head = int(d_model/num_heads)\n",
    "    attention = tf.keras.layers.MultiHeadAttention(num_heads, d_model_each_head, name=f\"{name}_MHAtt\")(\n",
    "        query = inputs, value = inputs, #key = inputs\n",
    "    )\n",
    "\n",
    "    # 드롭아웃 + 잔차 연결과 층 정규화\n",
    "    attention = tf.keras.layers.Dropout(rate=dropout)(attention)\n",
    "    attention = tf.keras.layers.LayerNormalization(epsilon=1e-6)(inputs+attention)\n",
    "\n",
    "    # 포지션 와이즈 피드 포워드 신경망 (두번째 서브층)\n",
    "    outputs = tf.keras.layers.Dense(units=dff, activation='relu')(attention)\n",
    "    outputs = tf.keras.layers.Dense(units=d_model)(outputs)\n",
    "\n",
    "    # 드롭아웃 + 잔차 연결과 층 정규화\n",
    "    outputs = tf.keras.layers.Dropout(rate=dropout)(outputs)\n",
    "    outputs = tf.keras.layers.LayerNormalization(epsilon=1e-6)(attention+outputs)\n",
    "\n",
    "    return tf.keras.Model(inputs=[inputs], outputs=outputs, name=name)"
   ]
  },
  {
   "cell_type": "code",
   "execution_count": 18,
   "id": "f5f59476-541a-4464-88cd-93dfa508543a",
   "metadata": {},
   "outputs": [],
   "source": [
    "def encoder(window_size, num_layers, dff,\n",
    "            d_model, num_heads, dropout,\n",
    "            name=\"encoder\"):\n",
    "    inputs = tf.keras.Input(shape=(window_size,), name=\"inputs\")\n",
    "\n",
    "    # 이번 일에서는 패딩이 존재X -> 패딩마스크X\n",
    "\n",
    "    # 포지셔널 인코딩 + 드롭아웃\n",
    "    embeddings = SeqAndPositionEmbedding(window_size,d_model)(inputs)\n",
    "    outputs = tf.keras.layers.Dropout(rate=dropout)(embeddings)\n",
    "\n",
    "    # 인코더를 num_layers개 쌓기\n",
    "    for i in range(num_layers):\n",
    "        outputs = encoder_layer(dff=dff, d_model=d_model, num_heads=num_heads,\n",
    "                                dropout=dropout, name=f\"encoder_layer_{i}\",)([outputs])\n",
    "\n",
    "    return tf.keras.Model(inputs=[inputs], outputs=outputs, name=name)"
   ]
  },
  {
   "cell_type": "markdown",
   "id": "f0c87c34-0aec-4f1a-8cf3-47bcb69eb3b2",
   "metadata": {},
   "source": [
    "## 셀프 어텐션(Self-attention)과 룩-어헤드 마스크(Look-ahead mask)"
   ]
  },
  {
   "cell_type": "code",
   "execution_count": 19,
   "id": "6efa655d-44b9-4ace-8684-452262445708",
   "metadata": {},
   "outputs": [],
   "source": [
    "# 디코더의 첫번째 서브층(sublayer)에서 미래 토큰을 Mask(0)하는 함수\n",
    "def create_look_ahead_mask(inputs):\n",
    "    input_shape = tf.shape(inputs)\n",
    "    batch_size, sequence_length = input_shape[0], input_shape[1]\n",
    "    i = tf.range(sequence_length)[:, tf.newaxis]\n",
    "    j = tf.range(sequence_length)\n",
    "    mask = tf.cast(i >= j, dtype=\"int32\")\n",
    "    mask = tf.reshape(mask, (1, sequence_length, sequence_length))\n",
    "    mult = tf.concat(\n",
    "        [tf.expand_dims(batch_size, -1), tf.constant([1, 1], dtype=tf.int32)],\n",
    "        axis=0,\n",
    "    )\n",
    "    return tf.tile(mask, mult)"
   ]
  },
  {
   "cell_type": "code",
   "execution_count": 20,
   "id": "d8dc3eb8-d03a-49ca-9c96-88f0115513ea",
   "metadata": {},
   "outputs": [
    {
     "data": {
      "text/plain": [
       "<tf.Tensor: shape=(3, 5, 5), dtype=int32, numpy=\n",
       "array([[[1, 0, 0, 0, 0],\n",
       "        [1, 1, 0, 0, 0],\n",
       "        [1, 1, 1, 0, 0],\n",
       "        [1, 1, 1, 1, 0],\n",
       "        [1, 1, 1, 1, 1]],\n",
       "\n",
       "       [[1, 0, 0, 0, 0],\n",
       "        [1, 1, 0, 0, 0],\n",
       "        [1, 1, 1, 0, 0],\n",
       "        [1, 1, 1, 1, 0],\n",
       "        [1, 1, 1, 1, 1]],\n",
       "\n",
       "       [[1, 0, 0, 0, 0],\n",
       "        [1, 1, 0, 0, 0],\n",
       "        [1, 1, 1, 0, 0],\n",
       "        [1, 1, 1, 1, 0],\n",
       "        [1, 1, 1, 1, 1]]], dtype=int32)>"
      ]
     },
     "execution_count": 20,
     "metadata": {},
     "output_type": "execute_result"
    }
   ],
   "source": [
    "tmp = tf.constant(np.arange(3*5*7).reshape((3,5,7)), dtype=tf.float32)\n",
    "\n",
    "create_look_ahead_mask(tmp)"
   ]
  },
  {
   "cell_type": "markdown",
   "id": "5c9f6dde-e5d0-4d01-9c75-87d8a2120cd5",
   "metadata": {},
   "source": [
    "## 디코더 레이어"
   ]
  },
  {
   "cell_type": "code",
   "execution_count": 21,
   "id": "dea7e85a-c722-473c-9a3e-e20b42bb0168",
   "metadata": {},
   "outputs": [],
   "source": [
    "def decoder_layer(dff, d_model, num_heads, dropout, name=\"decoder_layer\"):\n",
    "    inputs = tf.keras.Input(shape=(None, d_model), name=\"inputs\")\n",
    "    enc_outputs = tf.keras.Input(shape=(None, d_model), name=\"encoder_outputs\")\n",
    "\n",
    "    # 룩어헤드 마스크(첫번째 서브층)\n",
    "    look_ahead_mask = tf.keras.Input(shape=(None, None), name=\"look_ahead_mask\")\n",
    "\n",
    "    # 패딩 마스크X\n",
    "\n",
    "    # 멀티-헤드 어텐션 (첫번째 서브층 / 마스크드 셀프 어텐션)\n",
    "    assert d_model%num_heads==0,  f'It is in {name}'\n",
    "    d_model_each_head = int(d_model/num_heads)\n",
    "    attention1 = tf.keras.layers.MultiHeadAttention(num_heads, d_model_each_head, name=f\"{name}_MHAtt_1\")(\n",
    "        query = inputs, value = inputs, attention_mask = look_ahead_mask, #key = inputs\n",
    "    )\n",
    "\n",
    "    # 잔차 연결과 층 정규화\n",
    "    attention1 = tf.keras.layers.LayerNormalization(epsilon=1e-6)(attention1+inputs)\n",
    "\n",
    "    # 멀티-헤드 어텐션 (두번째 서브층 / 디코더-인코더 어텐션)\n",
    "    attention2 = tf.keras.layers.MultiHeadAttention(num_heads, d_model_each_head, name=f\"{name}_MHAtt_2\")(\n",
    "        query = attention1, value = enc_outputs, #key = enc_outputs\n",
    "    )\n",
    "\n",
    "    # 드롭아웃 + 잔차 연결과 층 정규화\n",
    "    attention2 = tf.keras.layers.Dropout(rate=dropout)(attention2)\n",
    "    attention2 = tf.keras.layers.LayerNormalization(epsilon=1e-6)(attention2+attention1)\n",
    "\n",
    "    # 포지션 와이즈 피드 포워드 신경망 (세번째 서브층)\n",
    "    outputs = tf.keras.layers.Dense(units=dff, activation='relu')(attention2)\n",
    "    outputs = tf.keras.layers.Dense(units=d_model)(outputs)\n",
    "\n",
    "    # 드롭아웃 + 잔차 연결과 층 정규화\n",
    "    outputs = tf.keras.layers.Dropout(rate=dropout)(outputs)\n",
    "    outputs = tf.keras.layers.LayerNormalization(epsilon=1e-6)(outputs+attention2)\n",
    "\n",
    "    return tf.keras.Model(\n",
    "        inputs=[inputs, enc_outputs, look_ahead_mask],\n",
    "        outputs=outputs,\n",
    "        name=name)"
   ]
  },
  {
   "cell_type": "code",
   "execution_count": 22,
   "id": "bf2cb5f7-e46c-420c-bd08-fcfbf8fcf417",
   "metadata": {},
   "outputs": [],
   "source": [
    "def decoder(forecast_range, num_layers, dff,\n",
    "            d_model, num_heads, dropout,\n",
    "            name='transformer_decoder'):\n",
    "    inputs = tf.keras.Input(shape=(None,), name='inputs')\n",
    "    enc_outputs = tf.keras.Input(shape=(None, d_model), name='encoder_outputs')\n",
    "    \n",
    "    # 포지셔널 인코딩 + 드롭아웃\n",
    "    embeddings = SeqAndPositionEmbedding(forecast_range,d_model,is_decoder=True)(inputs)\n",
    "    outputs = tf.keras.layers.Dropout(rate=dropout)(embeddings)\n",
    "    \n",
    "    # 디코더는 룩어헤드 마스크(첫번째 서브층)와 패딩 마스크(두번째 서브층) 둘 다 사용.\n",
    "    look_ahead_mask = create_look_ahead_mask(outputs)\n",
    "    \n",
    "    # 디코더를 num_layers개 쌓기\n",
    "    for i in range(num_layers):\n",
    "        outputs = decoder_layer(dff=dff, d_model=d_model, num_heads=num_heads,\n",
    "                                dropout=dropout, name=f'decoder_layer_{i}',)(inputs=[outputs, enc_outputs, look_ahead_mask])\n",
    "\n",
    "    return tf.keras.Model(\n",
    "        inputs=[inputs, enc_outputs],\n",
    "        outputs=outputs,\n",
    "        name=name)\n"
   ]
  },
  {
   "cell_type": "markdown",
   "id": "50e2593a-e7e8-4a0f-a74c-76aa3d9b4223",
   "metadata": {},
   "source": [
    "## 인코더-디코더 어텐션"
   ]
  },
  {
   "cell_type": "code",
   "execution_count": 23,
   "id": "5819fb82-96ea-46ae-b47b-bd0d6038c0ed",
   "metadata": {},
   "outputs": [],
   "source": [
    "def attention_enc_dec(window_size,d_model,num_heads,ref_seq_enc_num,name='attention_enc2dec'):\n",
    "    target_outputs = tf.keras.Input(shape=(window_size,d_model), name=\"target_outputs\")\n",
    "    ref_outputs = [tf.keras.Input(shape=(window_size,d_model), name=f\"ref_outputs_{i}\") for i in range(ref_seq_enc_num)]\n",
    "    \n",
    "    total_outputs = [target_outputs]\n",
    "    total_outputs.extend(ref_outputs)\n",
    "    \n",
    "    concat_outputs = tf.keras.layers.Concatenate(axis=-1,name = \"concat_enc2dec\")(total_outputs)\n",
    "    concat_outputs = tf.keras.layers.Dense(d_model)(concat_outputs)\n",
    "        \n",
    "    enc_outputs = tf.keras.layers.MultiHeadAttention(num_heads, d_model, name=\"multi_head_attention_1\")(\n",
    "        query = concat_outputs, value = concat_outputs, #key = inputs\n",
    "    )\n",
    "\n",
    "    return tf.keras.Model(inputs=total_outputs, outputs=enc_outputs, name=name)"
   ]
  },
  {
   "cell_type": "code",
   "execution_count": 24,
   "id": "5f8c5761-20f8-4187-8f15-e309e176c735",
   "metadata": {},
   "outputs": [
    {
     "name": "stdout",
     "output_type": "stream",
     "text": [
      "Model: \"attention_enc2dec\"\n",
      "__________________________________________________________________________________________________\n",
      " Layer (type)                   Output Shape         Param #     Connected to                     \n",
      "==================================================================================================\n",
      " target_outputs (InputLayer)    [(None, 30, 128)]    0           []                               \n",
      "                                                                                                  \n",
      " ref_outputs_0 (InputLayer)     [(None, 30, 128)]    0           []                               \n",
      "                                                                                                  \n",
      " ref_outputs_1 (InputLayer)     [(None, 30, 128)]    0           []                               \n",
      "                                                                                                  \n",
      " ref_outputs_2 (InputLayer)     [(None, 30, 128)]    0           []                               \n",
      "                                                                                                  \n",
      " concat_enc2dec (Concatenate)   (None, 30, 512)      0           ['target_outputs[0][0]',         \n",
      "                                                                  'ref_outputs_0[0][0]',          \n",
      "                                                                  'ref_outputs_1[0][0]',          \n",
      "                                                                  'ref_outputs_2[0][0]']          \n",
      "                                                                                                  \n",
      " dense (Dense)                  (None, 30, 128)      65664       ['concat_enc2dec[0][0]']         \n",
      "                                                                                                  \n",
      " multi_head_attention_1 (MultiH  (None, 30, 128)     527488      ['dense[0][0]',                  \n",
      " eadAttention)                                                    'dense[0][0]']                  \n",
      "                                                                                                  \n",
      "==================================================================================================\n",
      "Total params: 593,152\n",
      "Trainable params: 593,152\n",
      "Non-trainable params: 0\n",
      "__________________________________________________________________________________________________\n"
     ]
    }
   ],
   "source": [
    "enc_dec_att = attention_enc_dec(30,128,8,3)\n",
    "enc_dec_att.summary()"
   ]
  },
  {
   "cell_type": "code",
   "execution_count": 25,
   "id": "b9eec712-d665-4c72-9656-dfd779915223",
   "metadata": {},
   "outputs": [],
   "source": [
    "del enc_dec_att\n",
    "tf.keras.backend.clear_session()"
   ]
  },
  {
   "cell_type": "markdown",
   "id": "d8a34c76-0a54-4012-b5c5-319964879da8",
   "metadata": {},
   "source": [
    "## 멀티 인풋 트랜스포머"
   ]
  },
  {
   "cell_type": "markdown",
   "id": "1df016bc-2eb3-403e-b788-f90ee4cd239f",
   "metadata": {},
   "source": [
    "### 시퀀스 어탠션(sequence attention)"
   ]
  },
  {
   "cell_type": "code",
   "execution_count": 26,
   "id": "8d2fcd48-6134-4fcb-bdd2-d8522e15549f",
   "metadata": {},
   "outputs": [],
   "source": [
    "class SeqAttention(tf.keras.layers.Layer):\n",
    "    def __init__(self, num_seq, window_size, d_model, attmap_dropout=0.1, name=\"sequence_attention\"):\n",
    "        super(SeqAttention, self).__init__(name=name)\n",
    "        self.num_seq = num_seq\n",
    "        self.window_size = window_size\n",
    "        self.d_model = d_model\n",
    "        self.attmap_dropout = attmap_dropout\n",
    "        \n",
    "        #필요 레이어\n",
    "        ## 어탠션 맵을 만들 레이어\n",
    "        self.att_concate = tf.keras.layers.Concatenate(axis=1)\n",
    "        #self.attmap_dense= tf.keras.layers.Dense(self.num_seq*self.d_model)\n",
    "        self.attmap_dense=tf.keras.Sequential([\n",
    "            tf.keras.layers.Dense(int(self.num_seq*self.d_model*0.5)),\n",
    "            tf.keras.layers.Dropout(self.attmap_dropout),\n",
    "            tf.keras.layers.Dense(self.num_seq*self.d_model)\n",
    "        ])\n",
    "        self.att_softmax = tf.keras.layers.Softmax()\n",
    "        \n",
    "        #어탠션맵 생성 이후 처리\n",
    "        \n",
    "        #(+ 이부분 좀 생각해보자. 어쩌면 d_model 방향으로 차례로 넣는걸 해야할지도?)\n",
    "        self.concate = tf.keras.layers.Concatenate(axis=2) #d_model 방향으로 concatenate \n",
    "        self.dense = tf.keras.layers.Dense(self.d_model, activation=None) #\n",
    "        \n",
    "    def get_config(self):\n",
    "        config = super().get_config()\n",
    "        config.update({\n",
    "            \"num_seq\":self.num_seq,\n",
    "            \"window_size\":self.window_size,\n",
    "            \"d_model\": self.d_model,\n",
    "            \"attmap_dropout\":self.attmap_dropout,\n",
    "        })\n",
    "        return config\n",
    "    \n",
    "    \n",
    "    def call(self,query_,key_):\n",
    "        '''\n",
    "        input 모양 : \n",
    "            쿼리 -> (None, window_size, d_model, num_seq)\n",
    "            키/밸류 -> (None, num_seq, window_size)\n",
    "        \n",
    "        attention map 모양 : (None, 1, d_model, num_seq)\n",
    "        \n",
    "        output 모양:\n",
    "            (None, window_size, 2 * d_model, num_seq)\n",
    "        '''\n",
    "        \n",
    "        #Attention map 만들기\n",
    "        min_seq = tf.math.reduce_min(key_,axis=1) #(None, window_size)\n",
    "        avg_seq = tf.math.reduce_mean(key_,axis=1) #(None, window_size)\n",
    "        max_seq = tf.math.reduce_max(key_,axis=1) #(None, window_size)\n",
    "        \n",
    "        att_input = self.att_concate([min_seq,avg_seq,max_seq]) #(None, 3 * window_size)\n",
    "        att_score = self.attmap_dense(att_input) #(None, d_model * num_seq)\n",
    "        att_map = self.att_softmax(att_score)\n",
    "        att_map = tf.reshape(att_map,[-1,1,self.d_model,self.num_seq]) #(None, 1, d_model, num_seq)\n",
    "        \n",
    "        #Attention\n",
    "        att_out = tf.math.multiply(query_, att_map)\n",
    "        \n",
    "        #쿼리와의 concatenate\n",
    "        concat_query = self.concate([query_, att_out]) #(None, window_size, 2*d_model, num_seq)\n",
    "        \n",
    "        #(None, window_size, 2*d_model, num_seq) -> (None, window_size, d_model, num_seq)\n",
    "        concat_query = tf.transpose(concat_query,[0,1,3,2])\n",
    "        concat_query = tf.reshape(concat_query,[-1,2*self.d_model])\n",
    "        out = self.dense(concat_query)\n",
    "        out = tf.reshape(out,[-1,self.window_size,self.num_seq,self.d_model])\n",
    "        out = tf.transpose(out,[0,1,3,2])\n",
    "        \n",
    "        return out"
   ]
  },
  {
   "cell_type": "markdown",
   "id": "0967d03a-291c-44a1-801f-b51a6a2fd517",
   "metadata": {},
   "source": [
    "### 멀티 인풋 트랜스포머"
   ]
  },
  {
   "cell_type": "code",
   "execution_count": 27,
   "id": "b8bedbd6-287d-439d-9180-8714646e5ec8",
   "metadata": {},
   "outputs": [],
   "source": [
    "def multi_input_transformer(num_seq,window_size,num_layers,dff,d_model,num_heads,dropout,name=None):\n",
    "    inputs = tf.keras.Input(shape=(num_seq,window_size), name=\"inputs\")\n",
    "    \n",
    "    inputs_split = tf.split(inputs, num_or_size_splits=num_seq, axis=1)\n",
    "    for i in range(num_seq):\n",
    "        inputs_split[i] = tf.reshape(inputs_split[i],(-1,window_size))\n",
    "    \n",
    "    siamese_enc = encoder(window_size=window_size, num_layers=num_layers, dff=dff,\n",
    "                              d_model=d_model, num_heads=num_heads, dropout=dropout,name = \"siamese_encoder\")\n",
    "    \n",
    "    outputs_concat = []\n",
    "    for i in range(num_seq):\n",
    "        #siamese 구조\n",
    "        outputs = siamese_enc(inputs=[inputs_split[i]])\n",
    "        #outputs의 shape = (None,window_size,d_model)\n",
    "        outputs = tf.reshape(outputs,(-1,window_size,d_model,1))\n",
    "        \n",
    "        outputs_concat.append(outputs)\n",
    "    outputs_concat = tf.keras.layers.Concatenate(axis=3,name = \"concatenate\")(outputs_concat)\n",
    "    \n",
    "    outputs_concat_att = SeqAttention(num_seq=num_seq,\n",
    "                                      window_size=window_size,\n",
    "                                      d_model=d_model,\n",
    "                                      attmap_dropout=0.1,\n",
    "                                      name=\"sequence_attention\")(query_ = outputs_concat, key_=inputs)\n",
    "    \n",
    "    reduce_mean_outputs = tf.math.reduce_mean(outputs_concat_att,axis=3)#어탠션 수행 예정!\n",
    "    return tf.keras.Model(inputs=[inputs], outputs=reduce_mean_outputs, name=name)"
   ]
  },
  {
   "cell_type": "code",
   "execution_count": 28,
   "id": "85a794f8-8243-49bc-8e91-7b90b7517681",
   "metadata": {},
   "outputs": [
    {
     "name": "stdout",
     "output_type": "stream",
     "text": [
      "WARNING:tensorflow:AutoGraph could not transform <bound method SeqAndPositionEmbedding.call of <__main__.SeqAndPositionEmbedding object at 0x7fc0febfa970>> and will run it as-is.\n",
      "Cause: mangled names are not yet supported\n",
      "To silence this warning, decorate the function with @tf.autograph.experimental.do_not_convert\n",
      "WARNING: AutoGraph could not transform <bound method SeqAndPositionEmbedding.call of <__main__.SeqAndPositionEmbedding object at 0x7fc0febfa970>> and will run it as-is.\n",
      "Cause: mangled names are not yet supported\n",
      "To silence this warning, decorate the function with @tf.autograph.experimental.do_not_convert\n"
     ]
    },
    {
     "data": {
      "image/png": "[encoded data removed]",
      "text/plain": [
       "<IPython.core.display.Image object>"
      ]
     },
     "execution_count": 28,
     "metadata": {},
     "output_type": "execute_result"
    }
   ],
   "source": [
    "tf.keras.backend.clear_session()\n",
    "\n",
    "multi_inputs = multi_input_transformer(num_seq = 5,\n",
    "                                       window_size=25,\n",
    "                                       num_layers=4,\n",
    "                                       dff=128,\n",
    "                                       d_model=64,\n",
    "                                       num_heads=8,\n",
    "                                       dropout=0.1,\n",
    "                                       name='multi_input_transformer')\n",
    "tf.keras.utils.plot_model(multi_inputs, to_file='./imgs/multi_inputs_transformer.png', show_shapes=True)"
   ]
  },
  {
   "cell_type": "code",
   "execution_count": 29,
   "id": "8d9fb12a-26b9-4f4d-832e-df6ddffad50c",
   "metadata": {},
   "outputs": [],
   "source": [
    "del multi_inputs\n",
    "tf.keras.backend.clear_session()"
   ]
  },
  {
   "cell_type": "markdown",
   "id": "900e584d-85b7-4968-968b-ba6ced95bad9",
   "metadata": {},
   "source": [
    "## MEaI 트랜스포머"
   ]
  },
  {
   "cell_type": "code",
   "execution_count": 30,
   "id": "675548b6-e924-4d51-bac7-a06f72dffce6",
   "metadata": {},
   "outputs": [],
   "source": [
    "def MEaI_transformer(window_size, forecast_range, ref_num_list:list, num_layers, dff,\n",
    "                     d_model, num_heads, dropout,ref_encoder_name=None,\n",
    "                     name=\"MEaI_transformer\"):\n",
    "    \n",
    "    assert len(ref_num_list) > 0\n",
    "    assert 0 not in ref_num_list\n",
    "    assert (ref_encoder_name is None) or type(ref_encoder_name) == list\n",
    "    if type(ref_encoder_name) == list:\n",
    "        assert len(ref_encoder_name) == len(ref_num_list)\n",
    "\n",
    "    # 목표 시퀀스 인코더의 입력\n",
    "    target_inputs = tf.keras.Input(shape=(window_size,), name=\"target_inputs\")\n",
    "    \n",
    "    # 참조 시퀀스 인코더의 입력\n",
    "    ref_inputs = []\n",
    "    for idx,s in enumerate(ref_num_list):\n",
    "        ref_in = tf.keras.Input(shape=(s,window_size), name=f\"ref_inputs_{idx}\")\n",
    "        ref_inputs.append(ref_in)\n",
    "    \n",
    "    # 디코더의 입력\n",
    "    dec_inputs = tf.keras.Input(shape=(None,), name=\"dec_inputs\")\n",
    "\n",
    "    #목표 시퀀스 인코더\n",
    "    Target_seq_outputs = encoder(window_size=window_size, num_layers=num_layers, dff=dff,\n",
    "                          d_model=d_model, num_heads=num_heads, dropout=dropout,name = \"Target_seq_encoder\")(inputs=[target_inputs])\n",
    "    \n",
    "    \n",
    "    #참조 시퀀스 멀티 인풋 인코더\n",
    "    ref_seq_outputs = []\n",
    "    \n",
    "    if ref_encoder_name is None:\n",
    "        for idx, s in enumerate(ref_num_list):\n",
    "            ref_seq = multi_input_transformer(num_seq=s,window_size=window_size,num_layers=num_layers,dff=dff,\n",
    "                                              d_model=d_model,num_heads=num_heads,dropout=dropout,name=f\"ref_seq_encoder_{idx}\")(inputs=[ref_inputs[idx]])\n",
    "            ref_seq_outputs.append(ref_seq)\n",
    "    else:\n",
    "        for idx, s in enumerate(ref_num_list):\n",
    "            ref_seq = multi_input_transformer(num_seq=s,window_size=window_size,num_layers=num_layers,dff=dff,\n",
    "                                              d_model=d_model,num_heads=num_heads,dropout=dropout,name=ref_encoder_name[idx])(inputs=[ref_inputs[idx]])\n",
    "            ref_seq_outputs.append(ref_seq)\n",
    "    \n",
    "    #concatenate-attention\n",
    "    total_encode_output = [Target_seq_outputs]\n",
    "    total_encode_output.extend(ref_seq_outputs)\n",
    "    \n",
    "    enc_outputs = attention_enc_dec(window_size,d_model,num_heads,len(ref_num_list),name='attention_enc2dec')(inputs=total_encode_output)\n",
    "    # 디코더의 출력은 dec_outputs. 출력층으로 전달된다.\n",
    "    \n",
    "    dec_outputs = decoder(forecast_range=forecast_range, num_layers=num_layers, dff=dff,\n",
    "                          d_model=d_model, num_heads=num_heads, dropout=dropout,)(inputs=[dec_inputs, enc_outputs])\n",
    "\n",
    "    # 다음 예측을 위한 출력층\n",
    "    dec_outputs = tf.keras.layers.Dense(units=d_model//2, activation='relu', name=\"outputs_dense_1\")(dec_outputs)\n",
    "    dec_outputs = tf.keras.layers.Dense(units=d_model//4, name=\"outputs_dense_2\")(dec_outputs)\n",
    "    dec_outputs = tf.keras.layers.Dense(units=d_model//8, activation='relu', name=\"outputs_dense_3\")(dec_outputs)\n",
    "    outputs = tf.keras.layers.Dense(units=1, name=\"outputs\")(dec_outputs)\n",
    "    \n",
    "    total_inputs=[target_inputs]\n",
    "    total_inputs.extend(ref_inputs)\n",
    "    total_inputs.append(dec_inputs)\n",
    "    \n",
    "    return tf.keras.Model(inputs=total_inputs, outputs=outputs, name=name)"
   ]
  },
  {
   "cell_type": "markdown",
   "id": "bbd12c21-b002-44a1-aa61-2567bd1b69e9",
   "metadata": {
    "tags": []
   },
   "source": [
    "# 기본 모델 구조"
   ]
  },
  {
   "cell_type": "code",
   "execution_count": 22,
   "id": "44143b38-8070-41a7-80a7-91cedd94818e",
   "metadata": {},
   "outputs": [],
   "source": [
    "params = {\n",
    "    'window_size':30,\n",
    "    'forecast_range':24,\n",
    "    'num_layers':4,\n",
    "    'dff':256,\n",
    "    'd_model':128,\n",
    "    'num_heads':4,\n",
    "    'dropout':0.1\n",
    "}"
   ]
  },
  {
   "cell_type": "code",
   "execution_count": 23,
   "id": "5bea0a6e-80c9-4a86-b03e-1b03a9f9b9b9",
   "metadata": {},
   "outputs": [
    {
     "data": {
      "image/png": "[encoded data removed]",
      "text/plain": [
       "<IPython.core.display.Image object>"
      ]
     },
     "execution_count": 23,
     "metadata": {},
     "output_type": "execute_result"
    }
   ],
   "source": [
    "tf.keras.backend.clear_session()\n",
    "\n",
    "model = MEaI_transformer(\n",
    "    window_size = params['window_size'],\n",
    "    forecast_range = params['forecast_range'],\n",
    "    ref_num_list = [10,5],\n",
    "    num_layers = params['num_layers'],\n",
    "    dff = params['dff'],\n",
    "    d_model = params['d_model'],\n",
    "    num_heads = params['num_heads'],\n",
    "    dropout = params['dropout'],\n",
    "    ref_encoder_name=None,\n",
    "    name=\"MEaI_transformer\")\n",
    "\n",
    "tf.keras.utils.plot_model(model, to_file='./imgs/MEaI_transformer.png', show_shapes=True)\n"
   ]
  },
  {
   "cell_type": "markdown",
   "id": "6df29586-935d-4ae3-b2df-a91a35ce7de1",
   "metadata": {},
   "source": [
    "# 데이터 생성 & 학습"
   ]
  },
  {
   "cell_type": "markdown",
   "id": "6f2a3f37-5d73-4671-9191-2e1f2505394b",
   "metadata": {},
   "source": [
    "## PM10"
   ]
  },
  {
   "cell_type": "markdown",
   "id": "e2f908e5-37ca-4f60-9f57-62f3332b6f27",
   "metadata": {},
   "source": [
    "### 데이터 처리"
   ]
  },
  {
   "cell_type": "code",
   "execution_count": null,
   "id": "e77162c1-aa9c-4d4a-8ee1-75d6bb693eed",
   "metadata": {},
   "outputs": [],
   "source": [
    "params_pm10 = {\n",
    "    'window_size':50,\n",
    "    'forecast_range':24,\n",
    "    'num_layers':6,\n",
    "    'dff':512,\n",
    "    'd_model':256,\n",
    "    'num_heads':8,\n",
    "    'dropout':0.1\n",
    "}"
   ]
  },
  {
   "cell_type": "code",
   "execution_count": null,
   "id": "7bdeb2e8-3922-49c3-9cb2-f4bcaa019dd7",
   "metadata": {},
   "outputs": [],
   "source": [
    "PM10 = pd.read_csv('./data/weather_and_pm10.csv')\n",
    "PM10.일시 = pd.DatetimeIndex(PM10.일시,freq='H')\n",
    "\n",
    "PM10.index = PM10.일시\n",
    "PM10 = PM10.drop(columns = ['일시','풍향'])\n",
    "\n",
    "PM10_col = PM10.columns.copy()\n",
    "PM10_index = PM10.index.copy()\n",
    "\n",
    "scaler_pm10 = StandardScaler()\n",
    "scaler_pm10.fit(PM10)\n",
    "PM10 = scaler_pm10.transform(PM10)\n",
    "#PM10[['기압','시정']] = PM10[['기압','시정']]*0.01\n",
    "\n",
    "PM10 = pd.DataFrame(PM10,columns = PM10_col,index=PM10_index)\n",
    "\n",
    "PM10"
   ]
  },
  {
   "cell_type": "code",
   "execution_count": null,
   "id": "bc3b7408-c44b-4a4f-b52c-5dbf80ddec01",
   "metadata": {},
   "outputs": [],
   "source": [
    "plt.figure(figsize=(10,8))\n",
    "\n",
    "sns.heatmap(PM10.corr(), vmin=-1, vmax=1, annot=True)\n",
    "plt.show()"
   ]
  },
  {
   "cell_type": "code",
   "execution_count": null,
   "id": "f57995a2-ed96-44b7-b877-b1dc15e1f1ad",
   "metadata": {},
   "outputs": [],
   "source": [
    "seoul_pm10 = PM10['서울pm10'].to_numpy()\n",
    "#index_data = PM10.iloc[:,:8].to_numpy()\n",
    "index_data = PM10[['기온','기압','시정']].to_numpy().reshape([-1,3])\n",
    "other_pm10 = PM10[['관악pm10','수원pm10']].to_numpy()\n",
    "\n",
    "print(seoul_pm10.shape,other_pm10.shape,index_data.shape)"
   ]
  },
  {
   "cell_type": "code",
   "execution_count": null,
   "id": "60ac7ed9-8624-4a05-9dd4-332aeedaea26",
   "metadata": {
    "tags": []
   },
   "outputs": [],
   "source": [
    "split_by_window_target = []\n",
    "split_by_window_index = []\n",
    "split_by_window_other = []\n",
    "label_forecast=[]\n",
    "\n",
    "for i in tqdm(range( seoul_pm10.shape[0] - params_pm10['window_size'] - params_pm10['forecast_range'] + 1 )):\n",
    "    split_by_window_target.append(seoul_pm10[i:i+params_pm10['window_size']])\n",
    "    split_by_window_index.append(index_data[i:i+params_pm10['window_size'],:].T)\n",
    "    split_by_window_other.append(other_pm10[i:i+params_pm10['window_size'],:].T)\n",
    "    \n",
    "    label_forecast.append(seoul_pm10[i+params_pm10['window_size']-1:i+params_pm10['window_size']+params_pm10['forecast_range']])\n",
    "\n",
    "split_by_window_target = np.array(split_by_window_target)\n",
    "split_by_window_index = np.array(split_by_window_index)\n",
    "split_by_window_other = np.array(split_by_window_other)\n",
    "label_forecast = np.array(label_forecast)\n",
    "\n",
    "\n",
    "print(split_by_window_target.shape)\n",
    "print(split_by_window_index.shape)\n",
    "print(split_by_window_other.shape)\n",
    "print(label_forecast.shape)"
   ]
  },
  {
   "cell_type": "code",
   "execution_count": null,
   "id": "0ceb60d0-a0cf-4d18-b31c-2c06f78c2270",
   "metadata": {},
   "outputs": [],
   "source": [
    "# Train+Valid / Test 나누기\n",
    "# Test는 끝자락 시간만, Train+valid는 섞어서\n",
    "split_test_num = 3\n",
    "split_point = label_forecast.shape[0]-split_test_num\n",
    "shuffle_idx = np.random.choice(split_point,split_point,replace=False)\n",
    "\n",
    "print(f'shuffling : [{shuffle_idx[0]}, {shuffle_idx[1]}, {shuffle_idx[2]} ~ {shuffle_idx[-3]}, {shuffle_idx[-2]}, {shuffle_idx[-1]}]')\n",
    "\n",
    "test_traget = split_by_window_target[-split_test_num:]\n",
    "test_other = split_by_window_other[-split_test_num:]\n",
    "test_index = split_by_window_index[-split_test_num:]\n",
    "test_label = label_forecast[-split_test_num:]\n",
    "print(f'{test_traget.shape}{test_other.shape}{test_index.shape}{test_label.shape}')\n",
    "\n",
    "split_by_window_target = split_by_window_target[shuffle_idx]\n",
    "split_by_window_other = split_by_window_other[shuffle_idx]\n",
    "split_by_window_index = split_by_window_index[shuffle_idx]\n",
    "label_forecast = label_forecast[shuffle_idx]\n",
    "print(f'{split_by_window_target.shape}{split_by_window_other.shape}{split_by_window_index.shape}{label_forecast.shape}')"
   ]
  },
  {
   "cell_type": "code",
   "execution_count": null,
   "id": "93b0ed08-794a-4aa5-be15-6252620fc9b2",
   "metadata": {},
   "outputs": [],
   "source": [
    "# 텐서플로우 dataset을 이용하여 셔플(shuffle)을 수행하되, 배치 크기로 데이터를 묶는다.\n",
    "# 또한 이 과정에서 교사 강요(teacher forcing)을 사용하기 위해서 디코더의 입력과 실제값 시퀀스를 구성한다.\n",
    "# inputs,pos_inputs,neg_inputs,index_inputs, dec_inputs\n",
    "\n",
    "split_point=round(label_forecast.shape[0]*0.8)\n",
    "print(split_point)\n",
    "\n",
    "BATCH_SIZE = 128\n",
    "BUFFER_SIZE = 20000\n",
    "\n",
    "train_dataset = tf.data.Dataset.from_tensor_slices((\n",
    "    {\n",
    "        'target_inputs': split_by_window_target[:split_point,:],\n",
    "        'ref_inputs_0':split_by_window_index[:split_point,:,:],\n",
    "        'ref_inputs_1':split_by_window_other[:split_point,:,:],\n",
    "        'dec_inputs': label_forecast[:split_point,:-1] #teaching force\n",
    "    },\n",
    "    {\n",
    "        'outputs': label_forecast[:split_point, 1:,np.newaxis] #(None,24,1)\n",
    "    },\n",
    "))\n",
    "\n",
    "train_dataset = train_dataset.cache()\n",
    "train_dataset = train_dataset.shuffle(BUFFER_SIZE)\n",
    "train_dataset = train_dataset.batch(BATCH_SIZE)\n",
    "train_dataset = train_dataset.prefetch(tf.data.experimental.AUTOTUNE)"
   ]
  },
  {
   "cell_type": "code",
   "execution_count": null,
   "id": "3fc83685-9fd1-4858-ad3e-cddc89490bec",
   "metadata": {},
   "outputs": [],
   "source": [
    "test_dataset = tf.data.Dataset.from_tensor_slices((\n",
    "    {\n",
    "        'target_inputs': split_by_window_target[split_point:,:],\n",
    "        'ref_inputs_0':split_by_window_index[split_point:,:,:],\n",
    "        'ref_inputs_1':split_by_window_other[split_point:,:,:],\n",
    "        'dec_inputs': label_forecast[split_point:,:-1] #teaching force\n",
    "    },\n",
    "    {\n",
    "        'outputs': label_forecast[split_point:, 1:,np.newaxis] #(None,24,1)\n",
    "    },\n",
    "))\n",
    "test_dataset = test_dataset.cache()\n",
    "test_dataset = test_dataset.batch(BATCH_SIZE)\n",
    "test_dataset = test_dataset.prefetch(tf.data.experimental.AUTOTUNE)"
   ]
  },
  {
   "cell_type": "markdown",
   "id": "c2c0db6f-90c6-4160-b302-745f5066a233",
   "metadata": {},
   "source": [
    "### 모델 학습"
   ]
  },
  {
   "cell_type": "code",
   "execution_count": null,
   "id": "0745bdac-0cf1-4410-9b04-f18a1de6ee65",
   "metadata": {},
   "outputs": [],
   "source": [
    "del model"
   ]
  },
  {
   "cell_type": "code",
   "execution_count": null,
   "id": "aa31ff2f-3564-4dc0-88ab-a0fd3f1f7af1",
   "metadata": {},
   "outputs": [],
   "source": [
    "tf.keras.backend.clear_session()\n",
    "\n",
    "model = MEaI_transformer(\n",
    "    window_size = params_pm10['window_size'],\n",
    "    forecast_range = params_pm10['forecast_range'],\n",
    "    ref_num_list = [3,2],\n",
    "    num_layers = params_pm10['num_layers'],\n",
    "    dff = params_pm10['dff'],\n",
    "    d_model = params_pm10['d_model'],\n",
    "    num_heads = params_pm10['num_heads'],\n",
    "    dropout = params_pm10['dropout'],\n",
    "    ref_encoder_name=['index_seq_encoder','other_pm10_encoder'],\n",
    "    name=\"MEaI_transformer\")\n",
    "\n",
    "tf.keras.utils.plot_model(model, to_file='./imgs/PM10_MEaI_transformer.png', show_shapes=True)\n"
   ]
  },
  {
   "cell_type": "code",
   "execution_count": null,
   "id": "a56591ae-d49c-42ba-8f30-b8af8efa1d3b",
   "metadata": {},
   "outputs": [],
   "source": [
    "model.compile(optimizer = tf.keras.optimizers.Nadam(),\n",
    "              loss = tf.keras.losses.MeanSquaredError()\n",
    "             )"
   ]
  },
  {
   "cell_type": "code",
   "execution_count": null,
   "id": "534f6be9-8f82-4ba2-b89c-12f389cf3489",
   "metadata": {},
   "outputs": [],
   "source": [
    "callback_path = './result/MEaI_transformer/PM10'\n",
    "\n",
    "os.makedirs(f'{callback_path}/ckpt', exist_ok=True)\n",
    "ckpt_path = callback_path+'/ckpt/model_ckpt'\n",
    "callback_ckpt = tf.keras.callbacks.ModelCheckpoint(\n",
    "    ckpt_path,\n",
    "    monitor='val_loss',\n",
    "    save_best_only = True,\n",
    "    save_weights_only=True,\n",
    "    verbose=1\n",
    ")\n",
    "\n",
    "os.makedirs(f'{callback_path}/tsbd', exist_ok=True)\n",
    "callback_tsbd = tf.keras.callbacks.TensorBoard(f'{callback_path}/tsbd')\n",
    "\n",
    "def scheduler(epoch, lr):\n",
    "    if epoch < 5:\n",
    "        return lr\n",
    "    else:\n",
    "        return lr * 0.95 # 10epoch 이후 0.85씩 줄어듦(ex. 0.001, 0.001*0.95, 0.001*0.95^2, 0.001*0.95^3, ...)\n",
    "callback_scheduler = tf.keras.callbacks.LearningRateScheduler(scheduler)"
   ]
  },
  {
   "cell_type": "code",
   "execution_count": null,
   "id": "84c1bcaf-1640-4d1e-9809-9bcb589add17",
   "metadata": {},
   "outputs": [],
   "source": [
    "lr = 0.001\n",
    "epochs = 20\n",
    "e = np.arange(epochs)\n",
    "\n",
    "r = [lr for _ in range(len(e))]\n",
    "for i in range(epochs):\n",
    "    lr_ = lr if i == 0 else r[i-1]\n",
    "    lr_ = scheduler(i, lr_)\n",
    "    r[i] = lr_\n",
    "\n",
    "print(r)\n",
    "plt.plot(e,r)"
   ]
  },
  {
   "cell_type": "code",
   "execution_count": null,
   "id": "f6938670-3b91-46ba-896d-d7cc7c457786",
   "metadata": {
    "scrolled": true,
    "tags": []
   },
   "outputs": [],
   "source": [
    "history_pm10 = model.fit(train_dataset, epochs=20, validation_data=test_dataset, verbose = 1, callbacks=[callback_ckpt,callback_scheduler,callback_tsbd])"
   ]
  },
  {
   "cell_type": "code",
   "execution_count": null,
   "id": "f0485782-9c3e-4980-b7ef-1ec38e5f49e5",
   "metadata": {},
   "outputs": [],
   "source": [
    "model.load_weights('./result/MEaI_transformer/PM10/ckpt/model_ckpt')"
   ]
  },
  {
   "cell_type": "markdown",
   "id": "eb45636d-791e-4c1d-92cd-c1e271a43806",
   "metadata": {},
   "source": [
    "### 결과 예측"
   ]
  },
  {
   "cell_type": "code",
   "execution_count": null,
   "id": "c0c4f5df-f472-405b-9566-ae3b0aa92774",
   "metadata": {},
   "outputs": [],
   "source": [
    "params_pm10"
   ]
  },
  {
   "cell_type": "code",
   "execution_count": null,
   "id": "add28ac4-7c62-4932-b26e-4a582d2e5327",
   "metadata": {},
   "outputs": [],
   "source": [
    "print(test_traget[np.newaxis,1].shape)\n",
    "print(test_index[np.newaxis,1].shape)\n",
    "print(test_other[np.newaxis,1].shape)\n",
    "print(test_label[np.newaxis,np.newaxis,1,0].shape)"
   ]
  },
  {
   "cell_type": "code",
   "execution_count": null,
   "id": "ee43878b-cea7-45c5-9f12-f13d2b222906",
   "metadata": {},
   "outputs": [],
   "source": [
    "print(test_traget[np.newaxis,1])\n",
    "print(test_label[np.newaxis,np.newaxis,1,0])"
   ]
  },
  {
   "cell_type": "code",
   "execution_count": null,
   "id": "0c97a1c8-4d3f-463a-bb57-7479cfb9ab2a",
   "metadata": {},
   "outputs": [],
   "source": [
    "out = model([\n",
    "    test_traget[np.newaxis,1],\n",
    "    test_index[np.newaxis,1],\n",
    "    test_other[np.newaxis,1],\n",
    "    test_label[np.newaxis,np.newaxis,1,0]\n",
    "])\n",
    "\n",
    "print(out)\n",
    "forecast_input_dec_1 = np.concatenate([\n",
    "    test_label[np.newaxis,np.newaxis,1,0],\n",
    "    out.numpy().reshape((1,-1))\n",
    "],axis=-1)\n",
    "forecast_input_dec_1"
   ]
  },
  {
   "cell_type": "code",
   "execution_count": null,
   "id": "225e513f-95c0-4d32-9794-23e6152a4952",
   "metadata": {},
   "outputs": [],
   "source": [
    "fore_input = PM10['서울pm10'].to_numpy()[-params_pm10['window_size']-params_pm10['forecast_range']:-params_pm10['forecast_range']].reshape([1,25])\n",
    "#fore_input_index = PM10.iloc[:,:8].to_numpy()[-params_pm10['window_size']-params_pm10['forecast_range']:-params_pm10['forecast_range']].transpose().reshape([1,8,25])\n",
    "fore_input_index = PM10['시정'].to_numpy()[-params_pm10['window_size']-params_pm10['forecast_range']:-params_pm10['forecast_range']].transpose().reshape([1,1,25])\n",
    "fore_input_other = PM10[['관악pm10','수원pm10']].to_numpy()[-params_pm10['window_size']-params_pm10['forecast_range']:-params_pm10['forecast_range']].transpose().reshape([1,2,25])\n",
    "fore_input_dec = fore_input[0,-1].reshape([1,1])\n",
    "\n",
    "print(fore_input.shape)\n",
    "print(fore_input_index.shape)\n",
    "print(fore_input_other.shape)\n",
    "fore_input_dec"
   ]
  },
  {
   "cell_type": "code",
   "execution_count": null,
   "id": "b271a2a5-f70c-43f0-ba7c-7c55cf0a0818",
   "metadata": {},
   "outputs": [],
   "source": [
    "for _ in range(23):\n",
    "    out = model([\n",
    "        test_traget[np.newaxis,1],\n",
    "        test_pos[np.newaxis,1],\n",
    "        test_neg[np.newaxis,1],\n",
    "        test_index[np.newaxis,1],\n",
    "        forecast_input_dec_1\n",
    "    ])\n",
    "    #forecast_input_dec_1 = np.concatenate([test_label[np.newaxis,np.newaxis,1,0],out.numpy().reshape((1,-1))],axis=-1)#concat을 마지막 값만 스택해서?\n",
    "    forecast_input_dec_1 = np.concatenate([forecast_input_dec_1,out.numpy()[0,-1,0].reshape([1,1])],axis=-1)#concat을 마지막 값만 스택해서?\n",
    "print(out)\n",
    "print(forecast_input_dec_1)"
   ]
  },
  {
   "cell_type": "code",
   "execution_count": null,
   "id": "638fdc8e-29bc-468f-85f0-987d7320aadf",
   "metadata": {},
   "outputs": [],
   "source": [
    "test_label[1,1:]"
   ]
  },
  {
   "cell_type": "code",
   "execution_count": null,
   "id": "42f3aa0f-9b98-4ba9-acee-8b4c71814fa4",
   "metadata": {},
   "outputs": [],
   "source": [
    "plt.plot(out.numpy().reshape(-1))\n",
    "plt.plot(test_label[1,1:])"
   ]
  },
  {
   "cell_type": "markdown",
   "id": "b2858e66-5947-46ff-8843-fe707dfecede",
   "metadata": {},
   "source": [
    "```python\n",
    "out = model([fore_input,fore_input_index,fore_input_other,fore_input_dec])\n",
    "fore_input_dec_1 = np.concatenate([fore_input_dec,out.numpy().reshape((1,-1))],axis=-1)\n",
    "fore_input_dec_1\n",
    "```\n",
    "\n",
    "```python\n",
    "for _ in range(23):\n",
    "    out = model([fore_input,fore_input_index,fore_input_other,fore_input_dec_1])\n",
    "    fore_input_dec_1 = np.concatenate([fore_input_dec,out.numpy().reshape((1,-1))],axis=-1)\n",
    "print(out)\n",
    "print(fore_input_dec_1)\n",
    "```\n",
    "\n",
    "```python\n",
    "plt.plot(out.numpy().reshape(-1))\n",
    "plt.plot(PM10['서울pm10'][-24:].to_numpy())\n",
    "```"
   ]
  },
  {
   "cell_type": "code",
   "execution_count": null,
   "id": "73d43908-d134-466e-ab3e-d66e4db13ae4",
   "metadata": {},
   "outputs": [],
   "source": [
    "RESULT_pm10 = pd.concat([pd.DataFrame(out.numpy()[0]),PM10['서울pm10'][-24:].reset_index(drop=True)],axis=1)\n",
    "RESULT_pm10.columns = ['forecast(MEaI Transformer)','Real value']\n",
    "\n",
    "#RESULT_pm10 = RESULT_pm10*np.sqrt(scaler_pm10.var_[-2])+scaler_pm10.mean_[-2] #scale 되돌림\n",
    "\n",
    "#RESULT_pm10.to_csv('./MEaI 결과(PM10).csv',index=False)"
   ]
  },
  {
   "cell_type": "markdown",
   "id": "42b2483d-7246-4141-ae53-95d386d3c000",
   "metadata": {},
   "source": [
    "## KOSPI"
   ]
  },
  {
   "cell_type": "markdown",
   "id": "e75ebf9e-9427-4438-9408-10e3be0dc278",
   "metadata": {},
   "source": [
    "### 데이터 처리"
   ]
  },
  {
   "cell_type": "code",
   "execution_count": null,
   "id": "f14a1ab8-1f22-4d56-bf6a-c950341581de",
   "metadata": {},
   "outputs": [],
   "source": [
    "params_kospi = {\n",
    "    'window_size':30,\n",
    "    'forecast_range':20,\n",
    "    'num_layers':6,\n",
    "    'dff':128,\n",
    "    'd_model':32,\n",
    "    'num_heads':8,\n",
    "    'dropout':0.1\n",
    "}"
   ]
  },
  {
   "cell_type": "code",
   "execution_count": null,
   "id": "05a23e46-c320-4d1c-95be-048281aaebb3",
   "metadata": {},
   "outputs": [],
   "source": [
    "KOSPI = pd.read_csv('./data/kospi_financeIndex_and_stock.csv')\n",
    "KOSPI.Date = pd.DatetimeIndex(KOSPI.Date)\n",
    "\n",
    "KOSPI.index = KOSPI.Date\n",
    "KOSPI = KOSPI.drop(columns = ['Date'])\n",
    "\n",
    "KOSPI_col = KOSPI.columns.copy()\n",
    "KOSPI_index = KOSPI.index.copy()\n",
    "\n",
    "scaler_kospi = StandardScaler()\n",
    "scaler_kospi.fit(KOSPI)\n",
    "KOSPI = scaler_kospi.transform(KOSPI)\n",
    "\n",
    "KOSPI = pd.DataFrame(KOSPI,columns = KOSPI_col,index=KOSPI_index)\n",
    "\n",
    "# 데이터가 많기 때문에 개별 회사 주식의 종가는 \n",
    "# KOSPI와의 pearson 상관계수의 절대값이 큰 순서로 양/음의 개수를 정해서 가져옴\n",
    "close_stock = KOSPI.iloc[:,8:].copy()\n",
    "close_stock = pd.concat([KOSPI['KOSPI'],close_stock],axis=1)\n",
    "corr_name = close_stock.corr().sort_values(by='KOSPI',ascending=False).index.to_list()\n",
    "\n",
    "select_range = 10\n",
    "select_by_corr = []\n",
    "select_corr_pos = corr_name[1:select_range+1]\n",
    "select_corr_neg = corr_name[-select_range:]\n",
    "select_by_corr.extend(select_corr_pos)\n",
    "select_by_corr.extend(select_corr_neg)\n",
    "\n",
    "print(close_stock.corr().sort_values(by='KOSPI',ascending=False)['KOSPI'][select_by_corr])\n",
    "print('-'*50)\n",
    "\n",
    "select_col = select_by_corr\n",
    "select_index = KOSPI.columns[:8].to_list()\n",
    "select_col.extend(select_index)\n",
    "KOSPI_MEaI = KOSPI[select_col].copy()\n",
    "KOSPI_MEaI\n"
   ]
  },
  {
   "cell_type": "code",
   "execution_count": null,
   "id": "dba5b0df-b1e9-488d-8e97-5f4eeeb69dd4",
   "metadata": {},
   "outputs": [],
   "source": [
    "print(select_corr_pos)\n",
    "print('-'*30)\n",
    "print(select_corr_neg)\n",
    "print('-'*30)\n",
    "print(select_index[1:])"
   ]
  },
  {
   "cell_type": "code",
   "execution_count": null,
   "id": "488b3199-b472-437a-94b6-7504840ab960",
   "metadata": {},
   "outputs": [],
   "source": [
    "plt.figure(figsize=(18,16))\n",
    "\n",
    "sns.heatmap(KOSPI_MEaI.corr(), vmin=-1, vmax=1, annot=True)\n",
    "plt.savefig('./imgs/KOSPI_heatmap.png')\n",
    "plt.show()"
   ]
  },
  {
   "cell_type": "code",
   "execution_count": null,
   "id": "bf2c1021-18f0-491c-ac62-68e9cd77917a",
   "metadata": {},
   "outputs": [],
   "source": [
    "fig = plt.figure(figsize=(20,10))\n",
    "ax = fig.add_subplot()\n",
    "\n",
    "handle0 = ax.plot(KOSPI_MEaI[select_corr_neg].reset_index(drop=True),color = 'C0',alpha=0.2)\n",
    "handle1 = ax.plot(KOSPI_MEaI[select_corr_pos].reset_index(drop=True),color = 'C1',alpha=0.2)\n",
    "#handle2 = ax.plot(KOSPI_MEaI[select_index[1:]].reset_index(drop=True),color = 'C2',alpha=0.2)\n",
    "handle3 = ax.plot(KOSPI_MEaI['KOSPI'].reset_index(drop=True),color = 'black',alpha=0.8)\n",
    "\n",
    "#ax.legend(handles=[handle0[0],handle1[0],handle2[0],handle3[0]], labels=['negative correlation stock','positive correlation stock','other index','KOSPI'])\n",
    "ax.legend(handles=[handle0[0],handle1[0],handle3[0]], labels=['negative correlation stock','positive correlation stock','KOSPI'])\n",
    "\n",
    "plt.savefig('./imgs/KOSPI_corr.png')\n",
    "plt.show()"
   ]
  },
  {
   "cell_type": "code",
   "execution_count": null,
   "id": "382e900b-ffb3-4d92-ad61-c44a4cb6a4f5",
   "metadata": {},
   "outputs": [],
   "source": [
    "print(select_corr_pos)\n",
    "print('-'*30)\n",
    "select_corr_neg = ['인디에프_close', '한창_close', '베트남개발1_close', '다이나믹디자인_close']\n",
    "print(select_corr_neg)\n",
    "print('-'*30)\n",
    "select_index = ['KQ11', 'US500', 'IXIC', 'POILDUBUSDM']\n",
    "print(select_index)"
   ]
  },
  {
   "cell_type": "code",
   "execution_count": null,
   "id": "1faab13f-110a-4f39-bf5e-ae7cd5ead7d5",
   "metadata": {},
   "outputs": [],
   "source": [
    "print(f'is na? {KOSPI.isna().sum().sum()}')\n",
    "print('-'*80)\n",
    "\n",
    "print(f'length of KOSPI data : {KOSPI_MEaI.shape}')\n",
    "\n",
    "split_by_window_target = []\n",
    "split_by_window_pos = []\n",
    "split_by_window_neg = []\n",
    "split_by_window_index = []\n",
    "label_forecast = []\n",
    "for i in tqdm(range(KOSPI_MEaI.shape[0]-params_kospi['window_size']-params_kospi['forecast_range']+1)):\n",
    "    \n",
    "    split_by_window_target.append(KOSPI_MEaI['KOSPI'][i:i+params_kospi['window_size']])\n",
    "    \n",
    "    split_by_window_pos.append(KOSPI_MEaI[select_corr_pos][i:i+params_kospi['window_size']].T)\n",
    "    split_by_window_neg.append(KOSPI_MEaI[select_corr_neg][i:i+params_kospi['window_size']].T)\n",
    "    \n",
    "    split_by_window_index.append(KOSPI_MEaI[select_index][i:i+params_kospi['window_size']].T)\n",
    "    \n",
    "    label_forecast.append(KOSPI_MEaI['KOSPI'][i+params_kospi['window_size']-1:i+params_kospi['window_size']+params_kospi['forecast_range']])\n",
    "split_by_window_target = np.array(split_by_window_target)\n",
    "split_by_window_pos = np.array(split_by_window_pos)\n",
    "split_by_window_neg = np.array(split_by_window_neg)\n",
    "split_by_window_index = np.array(split_by_window_index)\n",
    "label_forecast = np.array(label_forecast)\n",
    "print(f'total process data shape(data, label) : {split_by_window_target.shape},{split_by_window_pos.shape},{split_by_window_neg.shape},{split_by_window_index.shape},{label_forecast.shape}')"
   ]
  },
  {
   "cell_type": "code",
   "execution_count": null,
   "id": "40e5b91b-bd5c-4f91-8e06-52359707e1cb",
   "metadata": {},
   "outputs": [],
   "source": [
    "# Train+Valid / Test 나누기\n",
    "# Test는 끝자락 시간만, Train+valid는 섞어서\n",
    "split_test_num = 3\n",
    "split_point = label_forecast.shape[0]-split_test_num\n",
    "shuffle_idx = np.random.choice(split_point,split_point,replace=False)\n",
    "\n",
    "print(f'shuffling : [{shuffle_idx[0]}, {shuffle_idx[1]}, {shuffle_idx[2]} ~ {shuffle_idx[-3]}, {shuffle_idx[-2]}, {shuffle_idx[-1]}]')\n",
    "\n",
    "test_traget = split_by_window_target[-split_test_num:]\n",
    "test_pos = split_by_window_pos[-split_test_num:]\n",
    "test_neg = split_by_window_neg[-split_test_num:]\n",
    "test_index = split_by_window_index[-split_test_num:]\n",
    "test_label = label_forecast[-split_test_num:]\n",
    "print(f'{test_traget.shape}{test_pos.shape}{test_neg.shape}{test_index.shape}{test_label.shape}')\n",
    "\n",
    "split_by_window_target = split_by_window_target[shuffle_idx]\n",
    "split_by_window_pos = split_by_window_pos[shuffle_idx]\n",
    "split_by_window_neg = split_by_window_neg[shuffle_idx]\n",
    "split_by_window_index = split_by_window_index[shuffle_idx]\n",
    "label_forecast = label_forecast[shuffle_idx]\n",
    "print(f'{split_by_window_target.shape}{split_by_window_pos.shape}{split_by_window_neg.shape}{split_by_window_index.shape}{label_forecast.shape}')"
   ]
  },
  {
   "cell_type": "code",
   "execution_count": null,
   "id": "f61ca3a1-0ce0-4a50-b8af-15ccae3e726a",
   "metadata": {},
   "outputs": [],
   "source": [
    "# 텐서플로우 dataset을 이용하여 셔플(shuffle)을 수행하되, 배치 크기로 데이터를 묶는다.\n",
    "# 또한 이 과정에서 교사 강요(teacher forcing)을 사용하기 위해서 디코더의 입력과 실제값 시퀀스를 구성한다.\n",
    "# inputs,pos_inputs,neg_inputs,index_inputs, dec_inputs\n",
    "\n",
    "split_point=round(label_forecast.shape[0]*0.85)\n",
    "print(split_point)\n",
    "\n",
    "BATCH_SIZE = 64\n",
    "BUFFER_SIZE = 20000\n",
    "\n",
    "train_dataset = tf.data.Dataset.from_tensor_slices((\n",
    "    {\n",
    "        'target_inputs': split_by_window_target[:split_point,:],\n",
    "        'ref_inputs_0':split_by_window_pos[:split_point,:,:],\n",
    "        'ref_inputs_1':split_by_window_neg[:split_point,:,:],\n",
    "        'ref_inputs_2':split_by_window_index[:split_point,:,:],\n",
    "        'dec_inputs': label_forecast[:split_point,:-1] #teaching force\n",
    "    },\n",
    "    {\n",
    "        'outputs': label_forecast[:split_point, 1:,np.newaxis] #(None,24,1)\n",
    "    },\n",
    "))\n",
    "\n",
    "train_dataset = train_dataset.cache()\n",
    "train_dataset = train_dataset.shuffle(BUFFER_SIZE)\n",
    "train_dataset = train_dataset.batch(BATCH_SIZE)\n",
    "train_dataset = train_dataset.prefetch(tf.data.experimental.AUTOTUNE)"
   ]
  },
  {
   "cell_type": "code",
   "execution_count": null,
   "id": "34ed19d5-51e9-4530-b859-d6be0cd57b8b",
   "metadata": {},
   "outputs": [],
   "source": [
    "valid_dataset = tf.data.Dataset.from_tensor_slices((\n",
    "    {\n",
    "        'target_inputs': split_by_window_target[split_point:,:],\n",
    "        'ref_inputs_0':split_by_window_pos[split_point:,:,:],\n",
    "        'ref_inputs_1':split_by_window_neg[split_point:,:,:],\n",
    "        'ref_inputs_2':split_by_window_index[split_point:,:,:],\n",
    "        'dec_inputs': label_forecast[split_point:,:-1] #teaching force\n",
    "    },\n",
    "    {\n",
    "        'outputs': label_forecast[split_point:, 1:,np.newaxis] #(None,24,1)\n",
    "    },\n",
    "))\n",
    "\n",
    "valid_dataset = valid_dataset.cache()\n",
    "valid_dataset = valid_dataset.batch(BATCH_SIZE)\n",
    "valid_dataset = valid_dataset.prefetch(tf.data.experimental.AUTOTUNE)"
   ]
  },
  {
   "cell_type": "markdown",
   "id": "5244f229-c578-4b3f-baa5-fdfe6146f3bd",
   "metadata": {},
   "source": [
    "### 모델 학습"
   ]
  },
  {
   "cell_type": "code",
   "execution_count": null,
   "id": "cdc00a41-062b-4dd3-84e4-c9c97ad25977",
   "metadata": {},
   "outputs": [],
   "source": [
    "del model"
   ]
  },
  {
   "cell_type": "code",
   "execution_count": null,
   "id": "23cee64a-810e-4480-b1c2-9fba10d5a3cd",
   "metadata": {},
   "outputs": [],
   "source": [
    "tf.keras.backend.clear_session()\n",
    "\n",
    "model = MEaI_transformer(\n",
    "    window_size = params_kospi['window_size'],\n",
    "    forecast_range = params_kospi['forecast_range'],\n",
    "    ref_num_list = [10,4,4],\n",
    "    num_layers = params_kospi['num_layers'],\n",
    "    dff = params_kospi['dff'],\n",
    "    d_model = params_kospi['d_model'],\n",
    "    num_heads = params_kospi['num_heads'],\n",
    "    dropout = params_kospi['dropout'],\n",
    "    ref_encoder_name=['positive_corr_encoder','negative_corr_encoder','index_encoder'],\n",
    "    name=\"MEaI_transformer\")\n",
    "\n",
    "tf.keras.utils.plot_model(model, to_file='./imgs/KOSPI_MEaI_transformer.png', show_shapes=True)\n"
   ]
  },
  {
   "cell_type": "code",
   "execution_count": null,
   "id": "55354cf7-6e9a-4740-92d8-d3ffa7a2eb40",
   "metadata": {},
   "outputs": [],
   "source": [
    "model.compile(optimizer = tf.keras.optimizers.Nadam(),\n",
    "              loss = tf.keras.losses.MeanSquaredError()\n",
    "             )"
   ]
  },
  {
   "cell_type": "code",
   "execution_count": null,
   "id": "85ad18d4-8b28-421b-b8bb-969340ec3aa9",
   "metadata": {},
   "outputs": [],
   "source": [
    "callback_path = './result/MEaI_transformer/KOSPI'\n",
    "\n",
    "os.makedirs(f'{callback_path}/ckpt', exist_ok=True)\n",
    "ckpt_path = callback_path+'/ckpt/model_ckpt'\n",
    "callback_ckpt = tf.keras.callbacks.ModelCheckpoint(\n",
    "    ckpt_path,\n",
    "    monitor='val_loss',\n",
    "    save_best_only = True,\n",
    "    save_weights_only=True,\n",
    "    verbose=1\n",
    ")\n",
    "\n",
    "os.makedirs(f'{callback_path}/tsbd', exist_ok=True)\n",
    "callback_tsbd = tf.keras.callbacks.TensorBoard(f'{callback_path}/tsbd')\n",
    "\n",
    "def scheduler(epoch, lr):\n",
    "    if epoch < 20:\n",
    "        return lr\n",
    "    else:\n",
    "        return lr * 0.95 # 10epoch 이후 0.85씩 줄어듦(ex. 0.001, 0.001*0.95, 0.001*0.95^2, 0.001*0.95^3, ...)\n",
    "callback_scheduler = tf.keras.callbacks.LearningRateScheduler(scheduler)"
   ]
  },
  {
   "cell_type": "code",
   "execution_count": null,
   "id": "72941b70-fe99-4bb8-bfd2-705e1edc8c20",
   "metadata": {},
   "outputs": [],
   "source": [
    "lr = 0.001\n",
    "e = np.arange(60)\n",
    "\n",
    "r = [lr for _ in range(len(e))]\n",
    "for i in range(60):\n",
    "    lr_ = lr if i == 0 else r[i-1]\n",
    "    lr_ = scheduler(i, lr_)\n",
    "    r[i] = lr_\n",
    "\n",
    "print(r)\n",
    "plt.plot(e,r)\n"
   ]
  },
  {
   "cell_type": "code",
   "execution_count": null,
   "id": "aeb221ea-16fc-4445-9820-a61b1b4ee212",
   "metadata": {
    "scrolled": true,
    "tags": []
   },
   "outputs": [],
   "source": [
    "history_kospi = model.fit(train_dataset, epochs=60, validation_data=valid_dataset, verbose = 1, callbacks=[callback_ckpt,callback_scheduler,callback_tsbd])"
   ]
  },
  {
   "cell_type": "code",
   "execution_count": null,
   "id": "0225c3bf-8499-4a72-bb8d-e81dcd4313cb",
   "metadata": {},
   "outputs": [],
   "source": [
    "model.load_weights('./result/MEaI_transformer/KOSPI/ckpt/model_ckpt')"
   ]
  },
  {
   "cell_type": "markdown",
   "id": "03405907-a5d0-4553-b160-0b8461c65684",
   "metadata": {},
   "source": [
    "### 결과 예측"
   ]
  },
  {
   "cell_type": "code",
   "execution_count": null,
   "id": "884d98ef-c7d4-482d-83e9-c173962d6890",
   "metadata": {},
   "outputs": [],
   "source": [
    "params_kospi"
   ]
  },
  {
   "cell_type": "code",
   "execution_count": null,
   "id": "ae2f104c-aafc-4ff9-8226-d01f8a0ca763",
   "metadata": {},
   "outputs": [],
   "source": [
    "print(test_traget[np.newaxis,1].shape)\n",
    "print(test_pos[np.newaxis,1].shape)\n",
    "print(test_neg[np.newaxis,1].shape)\n",
    "print(test_index[np.newaxis,1].shape)\n",
    "print(test_label[np.newaxis,np.newaxis,1,0].shape)"
   ]
  },
  {
   "cell_type": "code",
   "execution_count": null,
   "id": "bf6b52d0-0497-414c-974a-463f1d7e5c39",
   "metadata": {},
   "outputs": [],
   "source": [
    "print(test_traget[np.newaxis,1])\n",
    "print(test_label[np.newaxis,np.newaxis,1,0])"
   ]
  },
  {
   "cell_type": "code",
   "execution_count": null,
   "id": "0a10d87d-2ac0-485c-9c28-a203746c09ec",
   "metadata": {},
   "outputs": [],
   "source": [
    "out = model([\n",
    "    test_traget[np.newaxis,1],\n",
    "    test_pos[np.newaxis,1],\n",
    "    test_neg[np.newaxis,1],\n",
    "    test_index[np.newaxis,1],\n",
    "    test_label[np.newaxis,np.newaxis,1,0]\n",
    "])\n",
    "\n",
    "print(out)\n",
    "forecast_input_dec_1 = np.concatenate([\n",
    "    test_label[np.newaxis,np.newaxis,1,0],\n",
    "    out.numpy().reshape((1,-1))\n",
    "],axis=-1)\n",
    "forecast_input_dec_1"
   ]
  },
  {
   "cell_type": "code",
   "execution_count": null,
   "id": "b88164f1-0065-42ce-b690-9098a05230b6",
   "metadata": {},
   "outputs": [],
   "source": [
    "for _ in range(19):\n",
    "    out = model([\n",
    "        test_traget[np.newaxis,1],\n",
    "        test_pos[np.newaxis,1],\n",
    "        test_neg[np.newaxis,1],\n",
    "        test_index[np.newaxis,1],\n",
    "        forecast_input_dec_1\n",
    "    ])\n",
    "    #forecast_input_dec_1 = np.concatenate([test_label[np.newaxis,np.newaxis,1,0],out.numpy().reshape((1,-1))],axis=-1)#concat을 마지막 값만 스택해서?\n",
    "    forecast_input_dec_1 = np.concatenate([forecast_input_dec_1,out.numpy()[0,-1,0].reshape([1,1])],axis=-1)#concat을 마지막 값만 스택해서?\n",
    "print(out)\n",
    "print(forecast_input_dec_1)"
   ]
  },
  {
   "cell_type": "code",
   "execution_count": null,
   "id": "42f843e7-dd1a-45cf-93c7-3bebbf2ca65e",
   "metadata": {},
   "outputs": [],
   "source": [
    "test_label[1,1:]"
   ]
  },
  {
   "cell_type": "code",
   "execution_count": null,
   "id": "e516730c-4b11-42ff-9cc8-1855773931b8",
   "metadata": {},
   "outputs": [],
   "source": [
    "plt.plot(out.numpy().reshape(-1))\n",
    "plt.plot(test_label[1,1:])"
   ]
  },
  {
   "cell_type": "code",
   "execution_count": null,
   "id": "4c53564e-eb29-4ce8-986c-af034911d88a",
   "metadata": {},
   "outputs": [],
   "source": [
    "fore_range = 1\n",
    "\n",
    "RESULT_kospi_2 = pd.concat([pd.DataFrame(out.numpy()[0]),KOSPI_MEaI['KOSPI'][-20-fore_range:-fore_range].reset_index(drop=True)],axis=1)\n",
    "RESULT_kospi_2.columns = ['forecast(MEaI Transformer)','Real value']\n",
    "\n",
    "RESULT_kospi_2 = RESULT_kospi_2*np.sqrt(scaler_kospi.var_[0])+scaler_kospi.mean_[0] #scale 되돌림\n",
    "\n",
    "RESULT_kospi_2.to_csv('./MEaI 결과(KOSPI).csv',index=False)"
   ]
  },
  {
   "cell_type": "code",
   "execution_count": null,
   "id": "2d8fac9f-d8ee-40d8-b5bc-03fc927d5714",
   "metadata": {},
   "outputs": [],
   "source": [
    "RESULT_kospi_2.plot()"
   ]
  },
  {
   "cell_type": "markdown",
   "id": "49ea40ff-a1d4-4237-88dd-11365b586c5c",
   "metadata": {},
   "source": [
    "## ETTh1"
   ]
  },
  {
   "cell_type": "markdown",
   "id": "0f6054b2-261a-4866-855c-37385d3b11f6",
   "metadata": {},
   "source": [
    "### 데이터 처리"
   ]
  },
  {
   "cell_type": "code",
   "execution_count": 7,
   "id": "3f0a20b6-f22a-490b-bfb8-2f4d12dbc8a8",
   "metadata": {},
   "outputs": [],
   "source": [
    "params_ETTh1 = {\n",
    "    'window_size':80,\n",
    "    'forecast_range':48,\n",
    "    'num_layers':6,\n",
    "    'dff':128,\n",
    "    'd_model':32,\n",
    "    'num_heads':8,\n",
    "    'dropout':0.05\n",
    "}"
   ]
  },
  {
   "cell_type": "markdown",
   "id": "3c6f3833-f852-4efb-909f-e5e46b5aac34",
   "metadata": {},
   "source": [
    "| Field | date | HUFL | HULL | MUFL | MULL | LUFL | LULL | OT |\n",
    "| :----: | :----: | :----: | :----: | :----: | :----: | :----: | :----: | :----: |\n",
    "| Description | The recorded **date** |**H**igh **U**se**F**ul **L**oad | **H**igh **U**se**L**ess **L**oad | **M**iddle **U**se**F**ul **L**oad | **M**iddle **U**se**L**ess **L**oad | **L**ow **U**se**F**ul **L**oad | **L**ow **U**se**L**ess **L**oad | **O**il **T**emperature (target) |"
   ]
  },
  {
   "cell_type": "code",
   "execution_count": 8,
   "id": "0150e07b-b959-4358-ab33-f9e84e022884",
   "metadata": {},
   "outputs": [
    {
     "data": {
      "text/html": [
       "<div>\n",
       "<style scoped>\n",
       "    .dataframe tbody tr th:only-of-type {\n",
       "        vertical-align: middle;\n",
       "    }\n",
       "\n",
       "    .dataframe tbody tr th {\n",
       "        vertical-align: top;\n",
       "    }\n",
       "\n",
       "    .dataframe thead th {\n",
       "        text-align: right;\n",
       "    }\n",
       "</style>\n",
       "<table border=\"1\" class=\"dataframe\">\n",
       "  <thead>\n",
       "    <tr style=\"text-align: right;\">\n",
       "      <th></th>\n",
       "      <th>HUFL</th>\n",
       "      <th>HULL</th>\n",
       "      <th>MUFL</th>\n",
       "      <th>MULL</th>\n",
       "      <th>LUFL</th>\n",
       "      <th>LULL</th>\n",
       "      <th>OT</th>\n",
       "    </tr>\n",
       "  </thead>\n",
       "  <tbody>\n",
       "    <tr>\n",
       "      <th>0</th>\n",
       "      <td>-0.219049</td>\n",
       "      <td>-0.114207</td>\n",
       "      <td>-0.395683</td>\n",
       "      <td>-0.231903</td>\n",
       "      <td>0.976355</td>\n",
       "      <td>0.805738</td>\n",
       "      <td>2.008513</td>\n",
       "    </tr>\n",
       "    <tr>\n",
       "      <th>1</th>\n",
       "      <td>-0.238009</td>\n",
       "      <td>-0.081400</td>\n",
       "      <td>-0.411356</td>\n",
       "      <td>-0.251800</td>\n",
       "      <td>0.923970</td>\n",
       "      <td>0.857445</td>\n",
       "      <td>1.688203</td>\n",
       "    </tr>\n",
       "    <tr>\n",
       "      <th>2</th>\n",
       "      <td>-0.313849</td>\n",
       "      <td>-0.245432</td>\n",
       "      <td>-0.442557</td>\n",
       "      <td>-0.291043</td>\n",
       "      <td>0.610524</td>\n",
       "      <td>0.602247</td>\n",
       "      <td>1.688203</td>\n",
       "    </tr>\n",
       "    <tr>\n",
       "      <th>3</th>\n",
       "      <td>-0.323329</td>\n",
       "      <td>-0.147013</td>\n",
       "      <td>-0.442557</td>\n",
       "      <td>-0.271146</td>\n",
       "      <td>0.636286</td>\n",
       "      <td>0.703993</td>\n",
       "      <td>1.368010</td>\n",
       "    </tr>\n",
       "    <tr>\n",
       "      <th>4</th>\n",
       "      <td>-0.285409</td>\n",
       "      <td>-0.147013</td>\n",
       "      <td>-0.411356</td>\n",
       "      <td>-0.231903</td>\n",
       "      <td>0.688671</td>\n",
       "      <td>0.703993</td>\n",
       "      <td>1.006610</td>\n",
       "    </tr>\n",
       "    <tr>\n",
       "      <th>...</th>\n",
       "      <td>...</td>\n",
       "      <td>...</td>\n",
       "      <td>...</td>\n",
       "      <td>...</td>\n",
       "      <td>...</td>\n",
       "      <td>...</td>\n",
       "      <td>...</td>\n",
       "    </tr>\n",
       "    <tr>\n",
       "      <th>17415</th>\n",
       "      <td>-1.280380</td>\n",
       "      <td>0.640341</td>\n",
       "      <td>-1.452403</td>\n",
       "      <td>0.691136</td>\n",
       "      <td>0.348602</td>\n",
       "      <td>1.110975</td>\n",
       "      <td>-0.282568</td>\n",
       "    </tr>\n",
       "    <tr>\n",
       "      <th>17416</th>\n",
       "      <td>-1.820597</td>\n",
       "      <td>1.001211</td>\n",
       "      <td>-1.967580</td>\n",
       "      <td>0.769622</td>\n",
       "      <td>0.400987</td>\n",
       "      <td>1.364505</td>\n",
       "      <td>-0.266225</td>\n",
       "    </tr>\n",
       "    <tr>\n",
       "      <th>17417</th>\n",
       "      <td>-0.645506</td>\n",
       "      <td>0.771566</td>\n",
       "      <td>-0.749583</td>\n",
       "      <td>0.671791</td>\n",
       "      <td>0.558139</td>\n",
       "      <td>1.110975</td>\n",
       "      <td>-0.356458</td>\n",
       "    </tr>\n",
       "    <tr>\n",
       "      <th>17418</th>\n",
       "      <td>0.264287</td>\n",
       "      <td>0.771566</td>\n",
       "      <td>0.171642</td>\n",
       "      <td>0.671791</td>\n",
       "      <td>0.505755</td>\n",
       "      <td>0.959190</td>\n",
       "      <td>-0.414007</td>\n",
       "    </tr>\n",
       "    <tr>\n",
       "      <th>17419</th>\n",
       "      <td>0.387526</td>\n",
       "      <td>0.640341</td>\n",
       "      <td>0.275790</td>\n",
       "      <td>0.377192</td>\n",
       "      <td>0.558139</td>\n",
       "      <td>1.009229</td>\n",
       "      <td>-0.438637</td>\n",
       "    </tr>\n",
       "  </tbody>\n",
       "</table>\n",
       "<p>17420 rows × 7 columns</p>\n",
       "</div>"
      ],
      "text/plain": [
       "           HUFL      HULL      MUFL      MULL      LUFL      LULL        OT\n",
       "0     -0.219049 -0.114207 -0.395683 -0.231903  0.976355  0.805738  2.008513\n",
       "1     -0.238009 -0.081400 -0.411356 -0.251800  0.923970  0.857445  1.688203\n",
       "2     -0.313849 -0.245432 -0.442557 -0.291043  0.610524  0.602247  1.688203\n",
       "3     -0.323329 -0.147013 -0.442557 -0.271146  0.636286  0.703993  1.368010\n",
       "4     -0.285409 -0.147013 -0.411356 -0.231903  0.688671  0.703993  1.006610\n",
       "...         ...       ...       ...       ...       ...       ...       ...\n",
       "17415 -1.280380  0.640341 -1.452403  0.691136  0.348602  1.110975 -0.282568\n",
       "17416 -1.820597  1.001211 -1.967580  0.769622  0.400987  1.364505 -0.266225\n",
       "17417 -0.645506  0.771566 -0.749583  0.671791  0.558139  1.110975 -0.356458\n",
       "17418  0.264287  0.771566  0.171642  0.671791  0.505755  0.959190 -0.414007\n",
       "17419  0.387526  0.640341  0.275790  0.377192  0.558139  1.009229 -0.438637\n",
       "\n",
       "[17420 rows x 7 columns]"
      ]
     },
     "execution_count": 8,
     "metadata": {},
     "output_type": "execute_result"
    }
   ],
   "source": [
    "ETTh1 = pd.read_csv('./data/ETTh1.csv')\n",
    "ETTh1.drop(columns = 'date',inplace=True)\n",
    "\n",
    "ETTh1_col = ETTh1.columns\n",
    "\n",
    "scaler_ETTh1 = StandardScaler()\n",
    "scaler_ETTh1.fit(ETTh1)\n",
    "ETTh1 = scaler_ETTh1.transform(ETTh1)\n",
    "ETTh1 = pd.DataFrame(ETTh1,columns = ETTh1_col)\n",
    "\n",
    "ETTh1"
   ]
  },
  {
   "cell_type": "code",
   "execution_count": 9,
   "id": "3e9c26f6-45a6-4c34-8cbe-158c64c2ed7a",
   "metadata": {},
   "outputs": [
    {
     "name": "stdout",
     "output_type": "stream",
     "text": [
      "10452, 13936, 17420\n",
      "(10452, 7), (3564, 7), (3564, 7)\n"
     ]
    }
   ],
   "source": [
    "train_split_point = 871*12\n",
    "valid_split_point = 871*(12+4)\n",
    "test_split_point = 871*(12+4+4)\n",
    "print(f'{train_split_point}, {valid_split_point}, {test_split_point}')\n",
    "\n",
    "test_split = ETTh1.iloc[valid_split_point-params_ETTh1['window_size']:test_split_point].copy()\n",
    "valid_split = ETTh1.iloc[train_split_point-params_ETTh1['window_size']:valid_split_point].copy()\n",
    "train_split = ETTh1.iloc[:train_split_point].copy()\n",
    "print(f'{train_split.shape}, {valid_split.shape}, {test_split.shape}')"
   ]
  },
  {
   "cell_type": "code",
   "execution_count": 10,
   "id": "eedea0db-ed3f-45f9-baa5-895faa4e86b4",
   "metadata": {},
   "outputs": [
    {
     "name": "stderr",
     "output_type": "stream",
     "text": [
      "100%|███████████████████████████████████████████████████████████████████████████████████████████████████████████████████████████████████████████████████████████████████████| 10325/10325 [00:18<00:00, 543.66it/s]\n"
     ]
    },
    {
     "name": "stdout",
     "output_type": "stream",
     "text": [
      "total process data shape(data, label) : (10325, 80),(10325, 2, 80),(10325, 2, 80),(10325, 2, 80),(10325, 49)\n"
     ]
    }
   ],
   "source": [
    "split_by_window_target = []\n",
    "split_by_window_high = []\n",
    "split_by_window_middle = []\n",
    "split_by_window_low = []\n",
    "label_forecast = []\n",
    "\n",
    "data_set = train_split.copy()\n",
    "\n",
    "for i in tqdm(range(data_set.shape[0]-params_ETTh1['window_size']-params_ETTh1['forecast_range']+1)):\n",
    "    \n",
    "    split_by_window_target.append(data_set['OT'][i:i+params_ETTh1['window_size']])\n",
    "    \n",
    "    split_by_window_high.append(data_set[['HUFL','HULL']][i:i+params_ETTh1['window_size']].T)\n",
    "    split_by_window_middle.append(data_set[['MUFL','MULL']][i:i+params_ETTh1['window_size']].T)\n",
    "    split_by_window_low.append(data_set[['LUFL','LULL']][i:i+params_ETTh1['window_size']].T)\n",
    "    \n",
    "    label_forecast.append(data_set['OT'][i+params_ETTh1['window_size']-1:i+params_ETTh1['window_size']+params_ETTh1['forecast_range']])\n",
    "    \n",
    "split_by_window_target = np.array(split_by_window_target)\n",
    "split_by_window_high = np.array(split_by_window_high)\n",
    "split_by_window_middle = np.array(split_by_window_middle)\n",
    "split_by_window_low = np.array(split_by_window_low)\n",
    "label_forecast = np.array(label_forecast)\n",
    "print(f'total process data shape(data, label) : {split_by_window_target.shape},{split_by_window_high.shape},{split_by_window_middle.shape},{split_by_window_low.shape},{label_forecast.shape}')"
   ]
  },
  {
   "cell_type": "code",
   "execution_count": 11,
   "id": "c58ea367-1504-4d3a-8a8d-473ab274737f",
   "metadata": {},
   "outputs": [],
   "source": [
    "BATCH_SIZE = 64\n",
    "BUFFER_SIZE = 20000\n",
    "\n",
    "train_dataset = tf.data.Dataset.from_tensor_slices((\n",
    "    {\n",
    "        'target_inputs': split_by_window_target,\n",
    "        'ref_inputs_0':split_by_window_high,\n",
    "        'ref_inputs_1':split_by_window_middle,\n",
    "        'ref_inputs_2':split_by_window_low,\n",
    "        'dec_inputs': label_forecast[:,:-1] #teaching force\n",
    "    },\n",
    "    {\n",
    "        'outputs': label_forecast[:, 1:,np.newaxis]\n",
    "    },\n",
    "))\n",
    "\n",
    "train_dataset = train_dataset.cache()\n",
    "train_dataset = train_dataset.shuffle(BUFFER_SIZE)\n",
    "train_dataset = train_dataset.batch(BATCH_SIZE)\n",
    "train_dataset = train_dataset.prefetch(tf.data.experimental.AUTOTUNE)"
   ]
  },
  {
   "cell_type": "code",
   "execution_count": 12,
   "id": "98438902-9c27-4cdb-b1db-f45c55bff067",
   "metadata": {},
   "outputs": [
    {
     "name": "stderr",
     "output_type": "stream",
     "text": [
      "100%|█████████████████████████████████████████████████████████████████████████████████████████████████████████████████████████████████████████████████████████████████████████| 3437/3437 [00:05<00:00, 630.69it/s]\n"
     ]
    },
    {
     "name": "stdout",
     "output_type": "stream",
     "text": [
      "total process data shape(data, label) : (3437, 80),(3437, 2, 80),(3437, 2, 80),(3437, 2, 80),(3437, 49)\n"
     ]
    }
   ],
   "source": [
    "split_by_window_target = []\n",
    "split_by_window_high = []\n",
    "split_by_window_middle = []\n",
    "split_by_window_low = []\n",
    "label_forecast = []\n",
    "\n",
    "data_set = valid_split.copy()\n",
    "\n",
    "for i in tqdm(range(data_set.shape[0]-params_ETTh1['window_size']-params_ETTh1['forecast_range']+1)):\n",
    "    \n",
    "    split_by_window_target.append(data_set['OT'][i:i+params_ETTh1['window_size']])\n",
    "    \n",
    "    split_by_window_high.append(data_set[['HUFL','HULL']][i:i+params_ETTh1['window_size']].T)\n",
    "    split_by_window_middle.append(data_set[['MUFL','MULL']][i:i+params_ETTh1['window_size']].T)\n",
    "    split_by_window_low.append(data_set[['LUFL','LULL']][i:i+params_ETTh1['window_size']].T)\n",
    "    \n",
    "    label_forecast.append(data_set['OT'][i+params_ETTh1['window_size']-1:i+params_ETTh1['window_size']+params_ETTh1['forecast_range']])\n",
    "    \n",
    "split_by_window_target = np.array(split_by_window_target)\n",
    "split_by_window_high = np.array(split_by_window_high)\n",
    "split_by_window_middle = np.array(split_by_window_middle)\n",
    "split_by_window_low = np.array(split_by_window_low)\n",
    "label_forecast = np.array(label_forecast)\n",
    "print(f'total process data shape(data, label) : {split_by_window_target.shape},{split_by_window_high.shape},{split_by_window_middle.shape},{split_by_window_low.shape},{label_forecast.shape}')"
   ]
  },
  {
   "cell_type": "code",
   "execution_count": 13,
   "id": "e5748392-0131-47f8-9834-e2bf0460876a",
   "metadata": {},
   "outputs": [],
   "source": [
    "BATCH_SIZE = 64\n",
    "BUFFER_SIZE = 20000\n",
    "\n",
    "valid_dataset = tf.data.Dataset.from_tensor_slices((\n",
    "    {\n",
    "        'target_inputs': split_by_window_target,\n",
    "        'ref_inputs_0':split_by_window_high,\n",
    "        'ref_inputs_1':split_by_window_middle,\n",
    "        'ref_inputs_2':split_by_window_low,\n",
    "        'dec_inputs': label_forecast[:,:-1] #teaching force\n",
    "    },\n",
    "    {\n",
    "        'outputs': label_forecast[:, 1:,np.newaxis]\n",
    "    },\n",
    "))\n",
    "\n",
    "valid_dataset = valid_dataset.cache()\n",
    "valid_dataset = valid_dataset.shuffle(BUFFER_SIZE)\n",
    "valid_dataset = valid_dataset.batch(BATCH_SIZE)\n",
    "valid_dataset = valid_dataset.prefetch(tf.data.experimental.AUTOTUNE)"
   ]
  },
  {
   "cell_type": "markdown",
   "id": "1a00ada6-abc3-43be-acd4-d0dbf93c095c",
   "metadata": {},
   "source": [
    "### 모델 학습"
   ]
  },
  {
   "cell_type": "code",
   "execution_count": 14,
   "id": "8dbe4724-5de1-4803-806f-27d98db5805e",
   "metadata": {},
   "outputs": [
    {
     "ename": "NameError",
     "evalue": "name 'model' is not defined",
     "output_type": "error",
     "traceback": [
      "\u001b[0;31m---------------------------------------------------------------------------\u001b[0m",
      "\u001b[0;31mNameError\u001b[0m                                 Traceback (most recent call last)",
      "Cell \u001b[0;32mIn [14], line 1\u001b[0m\n\u001b[0;32m----> 1\u001b[0m \u001b[38;5;28;01mdel\u001b[39;00m model\n",
      "\u001b[0;31mNameError\u001b[0m: name 'model' is not defined"
     ]
    }
   ],
   "source": [
    "del model"
   ]
  },
  {
   "cell_type": "code",
   "execution_count": 31,
   "id": "d28a5d33-a1f8-4f4a-a680-41ebd6eff468",
   "metadata": {},
   "outputs": [
    {
     "data": {
      "image/png": "[encoded data removed]",
      "text/plain": [
       "<IPython.core.display.Image object>"
      ]
     },
     "execution_count": 31,
     "metadata": {},
     "output_type": "execute_result"
    }
   ],
   "source": [
    "tf.keras.backend.clear_session()\n",
    "\n",
    "model = MEaI_transformer(\n",
    "    window_size = params_ETTh1['window_size'],\n",
    "    forecast_range = params_ETTh1['forecast_range'],\n",
    "    ref_num_list = [2,2,2],\n",
    "    num_layers = params_ETTh1['num_layers'],\n",
    "    dff = params_ETTh1['dff'],\n",
    "    d_model = params_ETTh1['d_model'],\n",
    "    num_heads = params_ETTh1['num_heads'],\n",
    "    dropout = params_ETTh1['dropout'],\n",
    "    ref_encoder_name=['high_encoder','middle_encoder','low_encoder'],\n",
    "    name=\"MEaI_transformer\")\n",
    "\n",
    "tf.keras.utils.plot_model(model, to_file='./imgs/ETTh1_MEaI_transformer.png', show_shapes=True)\n"
   ]
  },
  {
   "cell_type": "code",
   "execution_count": null,
   "id": "684db739-0a40-45b0-aeb7-c385c80bc9aa",
   "metadata": {},
   "outputs": [],
   "source": [
    "model.compile(optimizer = tf.keras.optimizers.Nadam(),\n",
    "              loss = tf.keras.losses.MeanSquaredError()\n",
    "             )"
   ]
  },
  {
   "cell_type": "code",
   "execution_count": 27,
   "id": "878e8006-04b8-4ec8-976f-11d0574f9976",
   "metadata": {},
   "outputs": [],
   "source": [
    "callback_path = './result/MEaI_transformer/ETTh1'\n",
    "\n",
    "os.makedirs(f'{callback_path}/ckpt', exist_ok=True)\n",
    "ckpt_path = callback_path+'/ckpt/model_ckpt'\n",
    "callback_ckpt = tf.keras.callbacks.ModelCheckpoint(\n",
    "    ckpt_path,\n",
    "    monitor='val_loss',\n",
    "    save_best_only = True,\n",
    "    save_weights_only=True,\n",
    "    verbose=1\n",
    ")\n",
    "\n",
    "os.makedirs(f'{callback_path}/tsbd', exist_ok=True)\n",
    "callback_tsbd = tf.keras.callbacks.TensorBoard(f'{callback_path}/tsbd')\n",
    "\n",
    "def scheduler(epoch, lr):\n",
    "    if epoch < 5:\n",
    "        return lr\n",
    "    else:\n",
    "        return lr * 0.95 # 10epoch 이후 0.85씩 줄어듦(ex. 0.001, 0.001*0.95, 0.001*0.95^2, 0.001*0.95^3, ...)\n",
    "callback_scheduler = tf.keras.callbacks.LearningRateScheduler(scheduler)"
   ]
  },
  {
   "cell_type": "code",
   "execution_count": null,
   "id": "93d9870a-04cc-4bf6-af96-f7c1985bad8e",
   "metadata": {},
   "outputs": [],
   "source": [
    "lr = 0.001\n",
    "e = np.arange(20)\n",
    "\n",
    "r = [lr for _ in range(len(e))]\n",
    "for i in range(20):\n",
    "    lr_ = lr if i == 0 else r[i-1]\n",
    "    lr_ = scheduler(i, lr_)\n",
    "    r[i] = lr_\n",
    "\n",
    "print(r)\n",
    "plt.plot(e,r)\n"
   ]
  },
  {
   "cell_type": "code",
   "execution_count": null,
   "id": "982d56f5-684e-4120-8a64-e61ab34be400",
   "metadata": {
    "scrolled": true,
    "tags": []
   },
   "outputs": [],
   "source": [
    "history_kospi = model.fit(train_dataset, epochs=20, validation_data=valid_dataset, verbose = 1, callbacks=[callback_ckpt,callback_scheduler,callback_tsbd])"
   ]
  },
  {
   "cell_type": "code",
   "execution_count": null,
   "id": "ced2eee1-1c86-4444-93d3-2a5587831f85",
   "metadata": {},
   "outputs": [],
   "source": [
    "model.load_weights('./result/MEaI_transformer/ETTh1/ckpt/model_ckpt')"
   ]
  },
  {
   "cell_type": "markdown",
   "id": "6e925477-4a24-4691-9ab3-4becedabb55b",
   "metadata": {},
   "source": [
    "### 결과 예측"
   ]
  },
  {
   "cell_type": "code",
   "execution_count": null,
   "id": "790a1f62-3b34-4f57-93b8-3fc6d273ace4",
   "metadata": {},
   "outputs": [],
   "source": [
    "split_by_window_target = []\n",
    "split_by_window_high = []\n",
    "split_by_window_middle = []\n",
    "split_by_window_low = []\n",
    "label_forecast = []\n",
    "\n",
    "data_set = test_split.copy()\n",
    "\n",
    "for i in tqdm(range(data_set.shape[0]-params_ETTh1['window_size']-params_ETTh1['forecast_range']+1)):\n",
    "    \n",
    "    split_by_window_target.append(data_set['OT'][i:i+params_ETTh1['window_size']])\n",
    "    \n",
    "    split_by_window_high.append(data_set[['HUFL','HULL']][i:i+params_ETTh1['window_size']].T)\n",
    "    split_by_window_middle.append(data_set[['MUFL','MULL']][i:i+params_ETTh1['window_size']].T)\n",
    "    split_by_window_low.append(data_set[['LUFL','LULL']][i:i+params_ETTh1['window_size']].T)\n",
    "    \n",
    "    label_forecast.append(data_set['OT'][i+params_ETTh1['window_size']-1:i+params_ETTh1['window_size']+params_ETTh1['forecast_range']])\n",
    "    \n",
    "split_by_window_target = np.array(split_by_window_target)\n",
    "split_by_window_high = np.array(split_by_window_high)\n",
    "split_by_window_middle = np.array(split_by_window_middle)\n",
    "split_by_window_low = np.array(split_by_window_low)\n",
    "label_forecast = np.array(label_forecast)\n",
    "print(f'total process data shape(data, label) : {split_by_window_target.shape},{split_by_window_high.shape},{split_by_window_middle.shape},{split_by_window_low.shape},{label_forecast.shape}')"
   ]
  },
  {
   "cell_type": "code",
   "execution_count": null,
   "id": "69dc442e-e88d-4af8-9e28-25e6566d3fff",
   "metadata": {},
   "outputs": [],
   "source": [
    "label_forecast[:,0,np.newaxis].shape"
   ]
  },
  {
   "cell_type": "code",
   "execution_count": null,
   "id": "9c3c1e2a-a70f-4530-928c-98373e836cba",
   "metadata": {},
   "outputs": [],
   "source": [
    "fore_ETTh1 = model([split_by_window_target,split_by_window_high,split_by_window_middle,split_by_window_low,label_forecast[:,0,np.newaxis]])\n",
    "fore_ETTh1.shape"
   ]
  },
  {
   "cell_type": "code",
   "execution_count": null,
   "id": "b4eb8907-6050-48e4-8700-d763238eceed",
   "metadata": {},
   "outputs": [],
   "source": [
    "fore_ETTh1.numpy().reshape((3437,-1))"
   ]
  },
  {
   "cell_type": "code",
   "execution_count": null,
   "id": "bd2aac34-ac9d-4846-928e-3a6bdfaa8c66",
   "metadata": {},
   "outputs": [],
   "source": [
    "forecast_input_dec_1 = np.concatenate([\n",
    "    label_forecast[:,0,np.newaxis],\n",
    "    fore_ETTh1.numpy().reshape((3437,-1))\n",
    "],axis=-1)\n",
    "forecast_input_dec_1"
   ]
  },
  {
   "cell_type": "code",
   "execution_count": null,
   "id": "299e6067-0ced-410a-9a02-60906b4c0c87",
   "metadata": {},
   "outputs": [],
   "source": [
    "for _ in range(47):\n",
    "    out = model([\n",
    "        split_by_window_target,\n",
    "        split_by_window_high,\n",
    "        split_by_window_middle,\n",
    "        split_by_window_low,\n",
    "        forecast_input_dec_1\n",
    "    ])\n",
    "    #forecast_input_dec_1 = np.concatenate([test_label[np.newaxis,np.newaxis,1,0],out.numpy().reshape((1,-1))],axis=-1)#concat을 마지막 값만 스택해서?\n",
    "    forecast_input_dec_1 = np.concatenate([forecast_input_dec_1,out.numpy()[:,-1,0].reshape([3437,1])],axis=-1)#concat을 마지막 값만 스택해서?\n",
    "print(out)\n",
    "print(forecast_input_dec_1)"
   ]
  },
  {
   "cell_type": "code",
   "execution_count": null,
   "id": "1ed4c734-1ccd-4527-8787-4862838f991e",
   "metadata": {},
   "outputs": [],
   "source": [
    "plt.plot(label_forecast[0,:])\n",
    "plt.plot(out[0,:])"
   ]
  },
  {
   "cell_type": "code",
   "execution_count": null,
   "id": "a888b7b0-f566-4c47-94b6-8af76f1f7322",
   "metadata": {},
   "outputs": [],
   "source": [
    "mse = np.mean((out.numpy()[:,:].squeeze() - label_forecast[:,1:].squeeze())**2,axis=-1)\n",
    "np.mean(mse)"
   ]
  },
  {
   "cell_type": "code",
   "execution_count": null,
   "id": "e42eb7e2-89b6-4f7a-a069-b51cfa813c20",
   "metadata": {},
   "outputs": [],
   "source": [
    "np.mean((out.numpy()[0,:].squeeze() - label_forecast[0,1:].squeeze())**2,axis=-1)\n"
   ]
  },
  {
   "cell_type": "code",
   "execution_count": null,
   "id": "3c189c0a-8c04-45d3-83c4-7bbbbd096586",
   "metadata": {},
   "outputs": [],
   "source": [
    "mae = np.mean(abs(out.numpy()[:,:].squeeze() - label_forecast[:,1:].squeeze()),axis=-1)\n",
    "np.mean(mae)"
   ]
  },
  {
   "cell_type": "code",
   "execution_count": null,
   "id": "28a50c9c-4ea6-4477-aa81-fbd00b8fd5d1",
   "metadata": {},
   "outputs": [],
   "source": [
    "np.mean(abs(out.numpy()[0,:].squeeze() - label_forecast[0,1:].squeeze()),axis=-1)\n"
   ]
  },
  {
   "cell_type": "code",
   "execution_count": 48,
   "id": "d3d98776-9c4f-4827-b8c8-1d70a3623cd9",
   "metadata": {},
   "outputs": [],
   "source": [
    "tf.keras.backend.clear_session()"
   ]
  },
  {
   "cell_type": "markdown",
   "id": "a4d43e0c-55a5-42e6-ad88-0ee84d271730",
   "metadata": {},
   "source": [
    "### 루프(24,48,168,336,720)"
   ]
  },
  {
   "cell_type": "code",
   "execution_count": null,
   "id": "288f2201-b92a-480b-8493-ca3a62429bb1",
   "metadata": {
    "scrolled": true,
    "tags": []
   },
   "outputs": [
    {
     "name": "stderr",
     "output_type": "stream",
     "text": [
      "  0%|                                                                                                                                                                                        | 0/1 [00:00<?, ?it/s]"
     ]
    },
    {
     "name": "stdout",
     "output_type": "stream",
     "text": [
      "Epoch 1/20\n",
      "4255/4255 [==============================] - 7531s 2s/step - loss: 0.0199 - val_loss: 0.0069 - lr: 0.0010\n",
      "Epoch 2/20\n",
      "4255/4255 [==============================] - 7531s 2s/step - loss: 0.0148 - val_loss: 0.0068 - lr: 0.0010\n",
      "Epoch 3/20\n",
      "4255/4255 [==============================] - 7525s 2s/step - loss: 0.0143 - val_loss: 0.0185 - lr: 0.0010\n",
      "Epoch 4/20\n",
      "4255/4255 [==============================] - 7519s 2s/step - loss: 0.0134 - val_loss: 0.0171 - lr: 0.0010\n",
      "Epoch 5/20\n",
      "4255/4255 [==============================] - 7522s 2s/step - loss: 0.0124 - val_loss: 0.0241 - lr: 0.0010\n",
      "Epoch 6/20\n",
      "4255/4255 [==============================] - 7512s 2s/step - loss: 0.0109 - val_loss: 0.0217 - lr: 9.5000e-04\n",
      "Epoch 7/20\n",
      "4255/4255 [==============================] - 7525s 2s/step - loss: 0.0093 - val_loss: 0.0201 - lr: 9.0250e-04\n",
      "Epoch 8/20\n",
      "4255/4255 [==============================] - 7540s 2s/step - loss: 0.0083 - val_loss: 0.0219 - lr: 8.5737e-04\n",
      "Epoch 9/20\n",
      "4255/4255 [==============================] - 7558s 2s/step - loss: 0.0077 - val_loss: 0.0365 - lr: 8.1451e-04\n",
      "Epoch 10/20\n",
      "4255/4255 [==============================] - 7531s 2s/step - loss: 0.0070 - val_loss: 0.0391 - lr: 7.7378e-04\n",
      "Epoch 11/20\n",
      "1775/4255 [===========>..................] - ETA: 1:10:29 - loss: 0.0064"
     ]
    }
   ],
   "source": [
    "MSE = []\n",
    "MAE = []\n",
    "\n",
    "#for FORECAST_RANGE in tqdm([24,48,168,336,720]):\n",
    "for FORECAST_RANGE in tqdm([720]):\n",
    "    #config\n",
    "    params_ETTh1 = {\n",
    "        'window_size':int(FORECAST_RANGE*1.7),\n",
    "        'forecast_range':FORECAST_RANGE,\n",
    "        'num_layers':6,\n",
    "        'dff':128,\n",
    "        'd_model':32,\n",
    "        'num_heads':8,\n",
    "        'dropout':0.05\n",
    "    }\n",
    "    \n",
    "    #del model\n",
    "    tf.keras.backend.clear_session()\n",
    "\n",
    "    model = MEaI_transformer(\n",
    "            window_size = params_ETTh1['window_size'],\n",
    "            forecast_range = params_ETTh1['forecast_range'],\n",
    "            ref_num_list = [2,2,2],\n",
    "            num_layers = params_ETTh1['num_layers'],\n",
    "            dff = params_ETTh1['dff'],\n",
    "            d_model = params_ETTh1['d_model'],\n",
    "            num_heads = params_ETTh1['num_heads'],\n",
    "            dropout = params_ETTh1['dropout'],\n",
    "            ref_encoder_name=['high_encoder','middle_corr_encoder','low_encoder'],\n",
    "            name=f\"MEaI_transformer\")\n",
    "    model.compile(optimizer = tf.keras.optimizers.Nadam(),loss = tf.keras.losses.MeanSquaredError())\n",
    "    \n",
    "    #train set\n",
    "    split_by_window_target = []\n",
    "    split_by_window_high = []\n",
    "    split_by_window_middle = []\n",
    "    split_by_window_low = []\n",
    "    label_forecast = []\n",
    "    data_set = train_split.copy()\n",
    "    for i in range(data_set.shape[0]-params_ETTh1['window_size']-params_ETTh1['forecast_range']+1):\n",
    "        split_by_window_target.append(data_set['OT'][i:i+params_ETTh1['window_size']])\n",
    "        split_by_window_high.append(data_set[['HUFL','HULL']][i:i+params_ETTh1['window_size']].T)\n",
    "        split_by_window_middle.append(data_set[['MUFL','MULL']][i:i+params_ETTh1['window_size']].T)\n",
    "        split_by_window_low.append(data_set[['LUFL','LULL']][i:i+params_ETTh1['window_size']].T)\n",
    "        label_forecast.append(data_set['OT'][i+params_ETTh1['window_size']-1:i+params_ETTh1['window_size']+params_ETTh1['forecast_range']])\n",
    "    split_by_window_target = np.array(split_by_window_target)\n",
    "    split_by_window_high = np.array(split_by_window_high)\n",
    "    split_by_window_middle = np.array(split_by_window_middle)\n",
    "    split_by_window_low = np.array(split_by_window_low)\n",
    "    label_forecast = np.array(label_forecast)\n",
    "    BATCH_SIZE = 2\n",
    "    BUFFER_SIZE = 20000\n",
    "    train_dataset = tf.data.Dataset.from_tensor_slices((\n",
    "        {\n",
    "            'target_inputs': split_by_window_target,\n",
    "            'ref_inputs_0':split_by_window_high,\n",
    "            'ref_inputs_1':split_by_window_middle,\n",
    "            'ref_inputs_2':split_by_window_low,\n",
    "            'dec_inputs': label_forecast[:,:-1] #teaching force\n",
    "        },\n",
    "        {\n",
    "            'outputs': label_forecast[:, 1:,np.newaxis]\n",
    "        },\n",
    "    ))\n",
    "    train_dataset = train_dataset.cache()\n",
    "    train_dataset = train_dataset.shuffle(BUFFER_SIZE)\n",
    "    train_dataset = train_dataset.batch(BATCH_SIZE)\n",
    "    train_dataset = train_dataset.prefetch(tf.data.experimental.AUTOTUNE)\n",
    "    \n",
    "    #validation set\n",
    "    split_by_window_target = []\n",
    "    split_by_window_high = []\n",
    "    split_by_window_middle = []\n",
    "    split_by_window_low = []\n",
    "    label_forecast = []\n",
    "    data_set = valid_split.copy()\n",
    "    for i in range(data_set.shape[0]-params_ETTh1['window_size']-params_ETTh1['forecast_range']+1):\n",
    "        split_by_window_target.append(data_set['OT'][i:i+params_ETTh1['window_size']])\n",
    "        split_by_window_high.append(data_set[['HUFL','HULL']][i:i+params_ETTh1['window_size']].T)\n",
    "        split_by_window_middle.append(data_set[['MUFL','MULL']][i:i+params_ETTh1['window_size']].T)\n",
    "        split_by_window_low.append(data_set[['LUFL','LULL']][i:i+params_ETTh1['window_size']].T)\n",
    "        label_forecast.append(data_set['OT'][i+params_ETTh1['window_size']-1:i+params_ETTh1['window_size']+params_ETTh1['forecast_range']])\n",
    "    split_by_window_target = np.array(split_by_window_target)\n",
    "    split_by_window_high = np.array(split_by_window_high)\n",
    "    split_by_window_middle = np.array(split_by_window_middle)\n",
    "    split_by_window_low = np.array(split_by_window_low)\n",
    "    label_forecast = np.array(label_forecast)\n",
    "\n",
    "    valid_dataset = tf.data.Dataset.from_tensor_slices((\n",
    "        {\n",
    "            'target_inputs': split_by_window_target,\n",
    "            'ref_inputs_0':split_by_window_high,\n",
    "            'ref_inputs_1':split_by_window_middle,\n",
    "            'ref_inputs_2':split_by_window_low,\n",
    "            'dec_inputs': label_forecast[:,:-1] #teaching force\n",
    "        },\n",
    "        {\n",
    "            'outputs': label_forecast[:, 1:,np.newaxis]\n",
    "        },\n",
    "    ))\n",
    "    valid_dataset = valid_dataset.cache()\n",
    "    valid_dataset = valid_dataset.shuffle(BUFFER_SIZE)\n",
    "    valid_dataset = valid_dataset.batch(BATCH_SIZE)\n",
    "    valid_dataset = valid_dataset.prefetch(tf.data.experimental.AUTOTUNE)    \n",
    "    \n",
    "    #callback\n",
    "    callback_path = f'./result/MEaI_transformer/ETTh1({FORECAST_RANGE})'\n",
    "    os.makedirs(f'{callback_path}/ckpt', exist_ok=True)\n",
    "    ckpt_path = callback_path+'/ckpt/model_ckpt'\n",
    "    callback_ckpt = tf.keras.callbacks.ModelCheckpoint(\n",
    "        ckpt_path,\n",
    "        monitor='val_loss',\n",
    "        save_best_only = True,\n",
    "        save_weights_only=True,\n",
    "        verbose=0\n",
    "    )\n",
    "    os.makedirs(f'{callback_path}/tsbd', exist_ok=True)\n",
    "    callback_tsbd = tf.keras.callbacks.TensorBoard(f'{callback_path}/tsbd')\n",
    "    callback_scheduler = tf.keras.callbacks.LearningRateScheduler(scheduler)\n",
    "    \n",
    "    #Train\n",
    "    history = model.fit(train_dataset, epochs=20, validation_data=valid_dataset, verbose = 1, callbacks=[callback_ckpt,callback_scheduler,callback_tsbd])\n",
    "    model.load_weights(f'./result/MEaI_transformer/ETTh1({FORECAST_RANGE})/ckpt/model_ckpt')\n",
    "    \n",
    "    #test set\n",
    "    split_by_window_target = []\n",
    "    split_by_window_high = []\n",
    "    split_by_window_middle = []\n",
    "    split_by_window_low = []\n",
    "    label_forecast = []\n",
    "    data_set = test_split.copy()\n",
    "    for i in range(data_set.shape[0]-params_ETTh1['window_size']-params_ETTh1['forecast_range']+1):\n",
    "        split_by_window_target.append(data_set['OT'][i:i+params_ETTh1['window_size']])\n",
    "        split_by_window_high.append(data_set[['HUFL','HULL']][i:i+params_ETTh1['window_size']].T)\n",
    "        split_by_window_middle.append(data_set[['MUFL','MULL']][i:i+params_ETTh1['window_size']].T)\n",
    "        split_by_window_low.append(data_set[['LUFL','LULL']][i:i+params_ETTh1['window_size']].T)\n",
    "        label_forecast.append(data_set['OT'][i+params_ETTh1['window_size']-1:i+params_ETTh1['window_size']+params_ETTh1['forecast_range']])\n",
    "    split_by_window_target = np.array(split_by_window_target)\n",
    "    split_by_window_high = np.array(split_by_window_high)\n",
    "    split_by_window_middle = np.array(split_by_window_middle)\n",
    "    split_by_window_low = np.array(split_by_window_low)\n",
    "    label_forecast = np.array(label_forecast)\n",
    "    \n",
    "    #Forecast\n",
    "    fore_step = split_by_window_target.shape[0] // 30\n",
    "    fore_step_mse = []\n",
    "    fore_step_mae = []\n",
    "    for i in range(31):\n",
    "        fore_ETTh1 = model([split_by_window_target[i*fore_step:(i+1)*fore_step,:],\n",
    "                            split_by_window_high[i*fore_step:(i+1)*fore_step,:],\n",
    "                            split_by_window_middle[i*fore_step:(i+1)*fore_step,:],\n",
    "                            split_by_window_low[i*fore_step:(i+1)*fore_step,:],\n",
    "                            label_forecast[i*fore_step:(i+1)*fore_step,0,np.newaxis]])\n",
    "        forecast_input_dec_1 = np.concatenate([label_forecast[i*fore_step:(i+1)*fore_step,0,np.newaxis],fore_ETTh1.numpy().reshape((-1,1))],axis=-1)\n",
    "        for _ in range(FORECAST_RANGE-1):\n",
    "            out = model([split_by_window_target[i*fore_step:(i+1)*fore_step,:],\n",
    "                         split_by_window_high[i*fore_step:(i+1)*fore_step,:],\n",
    "                         split_by_window_middle[i*fore_step:(i+1)*fore_step,:],\n",
    "                         split_by_window_low[i*fore_step:(i+1)*fore_step,:],\n",
    "                         forecast_input_dec_1\n",
    "                        ])\n",
    "            forecast_input_dec_1 = np.concatenate([forecast_input_dec_1,out.numpy()[:,-1,0].reshape([-1,1])],axis=-1)\n",
    "        mse = np.mean((out.numpy()[:,:].squeeze() - label_forecast[i*fore_step:(i+1)*fore_step,1:].squeeze())**2,axis=-1)\n",
    "        mae = np.mean(abs(out.numpy()[:,:].squeeze() - label_forecast[i*fore_step:(i+1)*fore_step,1:].squeeze()),axis=-1)\n",
    "        fore_step_mse.append(mse)\n",
    "        fore_step_mae.append(mae)\n",
    "    fore_step_mse = np.concatenate(fore_step_mse,axis=0)\n",
    "    fore_step_mae = np.concatenate(fore_step_mae,axis=0)   \n",
    "    MSE.append(np.mean(fore_step_mse))\n",
    "    MAE.append(np.mean(fore_step_mae))\n",
    "MSE = np.array(MSE)\n",
    "MAE = np.array(MAE)\n",
    "print(MSE)\n",
    "print(MAE)"
   ]
  },
  {
   "cell_type": "code",
   "execution_count": 51,
   "id": "8ba67b11-3dd1-4073-80ed-f1be78117563",
   "metadata": {},
   "outputs": [
    {
     "name": "stdout",
     "output_type": "stream",
     "text": [
      "[0.1402830100292082]\n",
      "[0.2995852465627529]\n"
     ]
    }
   ],
   "source": [
    "print(MSE)\n",
    "print(MAE)"
   ]
  },
  {
   "cell_type": "markdown",
   "id": "2f0b8058-058f-4045-87ad-d44ebd92d169",
   "metadata": {},
   "source": [
    "```python\n",
    "print(MSE)\n",
    "[0.07515048614661463, 0.14425535643768017, 0.11603953209086278, 0.1402830100292082]\n",
    "print(MAE)\n",
    "[0.21208309424960112, 0.28995917921412095, 0.267602527298358  , 0.2995852465627529]\n",
    "```"
   ]
  },
  {
   "cell_type": "code",
   "execution_count": 32,
   "id": "70a67ae9-8ba3-436e-a617-bd0c779f1b5d",
   "metadata": {},
   "outputs": [
    {
     "data": {
      "text/plain": [
       "3112"
      ]
     },
     "execution_count": 32,
     "metadata": {},
     "output_type": "execute_result"
    }
   ],
   "source": [
    "    fore_ETTh1 = model([split_by_window_target,split_by_window_high,split_by_window_middle,split_by_window_low,label_forecast[:,0,np.newaxis]])\n",
    "    forecast_input_dec_1 = np.concatenate([label_forecast[:,0,np.newaxis],fore_ETTh1.numpy().reshape((-1,1))],axis=-1)\n",
    "    for _ in range(FORECAST_RANGE-1):\n",
    "        out = model([\n",
    "                     split_by_window_target,\n",
    "                     split_by_window_high,\n",
    "                     split_by_window_middle,\n",
    "                     split_by_window_low,\n",
    "                     forecast_input_dec_1\n",
    "                    ])\n",
    "        forecast_input_dec_1 = np.concatenate([forecast_input_dec_1,out.numpy()[:,-1,0].reshape([-1,1])],axis=-1)\n",
    "        \n",
    "    mse = np.mean((out.numpy()[:,:].squeeze() - label_forecast[:,1:].squeeze())**2,axis=-1)\n",
    "    MSE.append(np.mean(mse))\n",
    "    mae = np.mean(abs(out.numpy()[:,:].squeeze() - label_forecast[:,1:].squeeze()),axis=-1)\n",
    "    MAE.append(np.mean(mae))"
   ]
  },
  {
   "cell_type": "code",
   "execution_count": 37,
   "id": "0303fc8b-cc7c-48b6-892d-33de1048873b",
   "metadata": {},
   "outputs": [
    {
     "data": {
      "text/plain": [
       "(2, 285)"
      ]
     },
     "execution_count": 37,
     "metadata": {},
     "output_type": "execute_result"
    }
   ],
   "source": [
    "split_by_window_target[3110:311*11,:].shape"
   ]
  },
  {
   "cell_type": "code",
   "execution_count": 39,
   "id": "1e2480b9-1ffe-4b87-ac1e-cbee54e35afc",
   "metadata": {},
   "outputs": [
    {
     "name": "stdout",
     "output_type": "stream",
     "text": [
      "(3112,) (3112,)\n",
      "[0.04551527303309174] [0.15398117254306481]\n"
     ]
    }
   ],
   "source": [
    "#Forecast\n",
    "#일단 되면 30개로 나누자!\n",
    "fore_step = split_by_window_target.shape[0] // 30\n",
    "\n",
    "fore_step_mse = []\n",
    "fore_step_mae = []\n",
    "for i in range(31):\n",
    "    fore_ETTh1 = model([split_by_window_target[i*fore_step:(i+1)*fore_step,:],\n",
    "                        split_by_window_high[i*fore_step:(i+1)*fore_step,:],\n",
    "                        split_by_window_middle[i*fore_step:(i+1)*fore_step,:],\n",
    "                        split_by_window_low[i*fore_step:(i+1)*fore_step,:],\n",
    "                        label_forecast[i*fore_step:(i+1)*fore_step,0,np.newaxis]])\n",
    "    forecast_input_dec_1 = np.concatenate([label_forecast[i*fore_step:(i+1)*fore_step,0,np.newaxis],fore_ETTh1.numpy().reshape((-1,1))],axis=-1)\n",
    "    for _ in range(FORECAST_RANGE-1):\n",
    "        out = model([\n",
    "                     split_by_window_target[i*fore_step:(i+1)*fore_step,:],\n",
    "                     split_by_window_high[i*fore_step:(i+1)*fore_step,:],\n",
    "                     split_by_window_middle[i*fore_step:(i+1)*fore_step,:],\n",
    "                     split_by_window_low[i*fore_step:(i+1)*fore_step,:],\n",
    "                     forecast_input_dec_1\n",
    "                    ])\n",
    "        forecast_input_dec_1 = np.concatenate([forecast_input_dec_1,out.numpy()[:,-1,0].reshape([-1,1])],axis=-1)\n",
    "    mse = np.mean((out.numpy()[:,:].squeeze() - label_forecast[i*fore_step:(i+1)*fore_step,1:].squeeze())**2,axis=-1)\n",
    "    mae = np.mean(abs(out.numpy()[:,:].squeeze() - label_forecast[i*fore_step:(i+1)*fore_step,1:].squeeze()),axis=-1)\n",
    "    fore_step_mse.append(mse)\n",
    "    fore_step_mae.append(mae)\n",
    "fore_step_mse = np.concatenate(fore_step_mse,axis=0)\n",
    "fore_step_mae = np.concatenate(fore_step_mae,axis=0)\n",
    "print(fore_step_mse.shape,fore_step_mae.shape)\n",
    "MSE.append(np.mean(fore_step_mse))\n",
    "MAE.append(np.mean(fore_step_mae))\n",
    "print(MSE,MAE)"
   ]
  },
  {
   "cell_type": "code",
   "execution_count": 44,
   "id": "ccf01b45-f914-4468-9ca0-0541693495f6",
   "metadata": {},
   "outputs": [
    {
     "data": {
      "text/plain": [
       "0.11603953209086278"
      ]
     },
     "execution_count": 44,
     "metadata": {},
     "output_type": "execute_result"
    }
   ],
   "source": [
    "np.mean(fore_step_mse)"
   ]
  },
  {
   "cell_type": "code",
   "execution_count": 45,
   "id": "1e086b0d-a1f1-4303-b040-f56877d18820",
   "metadata": {},
   "outputs": [
    {
     "data": {
      "text/plain": [
       "0.267602527298358"
      ]
     },
     "execution_count": 45,
     "metadata": {},
     "output_type": "execute_result"
    }
   ],
   "source": [
    "np.mean(fore_step_mae)"
   ]
  }
 ],
 "metadata": {
  "kernelspec": {
   "display_name": "Python 3 (ipykernel)",
   "language": "python",
   "name": "python3"
  },
  "language_info": {
   "codemirror_mode": {
    "name": "ipython",
    "version": 3
   },
   "file_extension": ".py",
   "mimetype": "text/x-python",
   "name": "python",
   "nbconvert_exporter": "python",
   "pygments_lexer": "ipython3",
   "version": "3.9.13"
  },
  "toc-autonumbering": true,
  "toc-showcode": false,
  "toc-showmarkdowntxt": false,
  "toc-showtags": true
 },
 "nbformat": 4,
 "nbformat_minor": 5
}
