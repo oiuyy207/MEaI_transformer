{
 "cells": [
  {
   "cell_type": "code",
   "execution_count": 1,
   "id": "5a494cdf-a0ed-48da-8e8e-99864aa77c74",
   "metadata": {},
   "outputs": [],
   "source": [
    "import numpy as np\n",
    "import pandas as pd\n",
    "\n",
    "import matplotlib.pyplot as plt\n",
    "import matplotlib.ticker as ticker\n",
    "\n",
    "plt.rcParams['font.family'] = 'D2Coding'"
   ]
  },
  {
   "cell_type": "code",
   "execution_count": 2,
   "id": "287a5259-68b8-401d-a86f-5b7a6c46b274",
   "metadata": {},
   "outputs": [],
   "source": [
    "import os"
   ]
  },
  {
   "cell_type": "code",
   "execution_count": 3,
   "id": "4c6a01a7-ba01-420d-b690-0a95182409bd",
   "metadata": {},
   "outputs": [],
   "source": [
    "os.makedirs('./imgs/forecast_res',exist_ok=True)\n",
    "IMG_PATH = './imgs/forecast_res'"
   ]
  },
  {
   "cell_type": "markdown",
   "id": "68da0378-6dc2-4756-9ed9-b9589b628047",
   "metadata": {},
   "source": [
    "# PM10"
   ]
  },
  {
   "cell_type": "code",
   "execution_count": null,
   "id": "15dfa216-5a0d-4258-b8e3-e9273b3d7385",
   "metadata": {},
   "outputs": [],
   "source": []
  },
  {
   "cell_type": "markdown",
   "id": "973fdecf-81ca-4ae9-815d-8f87d3eee330",
   "metadata": {},
   "source": [
    "# KOSPI"
   ]
  },
  {
   "cell_type": "code",
   "execution_count": 4,
   "id": "b57d2cc4-3408-4cc3-b03c-667a4b5a8d65",
   "metadata": {},
   "outputs": [
    {
     "data": {
      "text/html": [
       "<div>\n",
       "<style scoped>\n",
       "    .dataframe tbody tr th:only-of-type {\n",
       "        vertical-align: middle;\n",
       "    }\n",
       "\n",
       "    .dataframe tbody tr th {\n",
       "        vertical-align: top;\n",
       "    }\n",
       "\n",
       "    .dataframe thead th {\n",
       "        text-align: right;\n",
       "    }\n",
       "</style>\n",
       "<table border=\"1\" class=\"dataframe\">\n",
       "  <thead>\n",
       "    <tr style=\"text-align: right;\">\n",
       "      <th></th>\n",
       "      <th>forecast(Basic Transformer)</th>\n",
       "      <th>forecast(VAR)</th>\n",
       "      <th>Real value</th>\n",
       "    </tr>\n",
       "  </thead>\n",
       "  <tbody>\n",
       "    <tr>\n",
       "      <th>0</th>\n",
       "      <td>2973.1309</td>\n",
       "      <td>2907.686095</td>\n",
       "      <td>2945.270020</td>\n",
       "    </tr>\n",
       "    <tr>\n",
       "      <th>1</th>\n",
       "      <td>2971.2690</td>\n",
       "      <td>2909.650510</td>\n",
       "      <td>2968.330078</td>\n",
       "    </tr>\n",
       "    <tr>\n",
       "      <th>2</th>\n",
       "      <td>2969.7253</td>\n",
       "      <td>2894.269330</td>\n",
       "      <td>2973.250000</td>\n",
       "    </tr>\n",
       "    <tr>\n",
       "      <th>3</th>\n",
       "      <td>2970.8810</td>\n",
       "      <td>2890.834679</td>\n",
       "      <td>2991.719971</td>\n",
       "    </tr>\n",
       "    <tr>\n",
       "      <th>4</th>\n",
       "      <td>2975.6543</td>\n",
       "      <td>2890.018851</td>\n",
       "      <td>3001.800049</td>\n",
       "    </tr>\n",
       "  </tbody>\n",
       "</table>\n",
       "</div>"
      ],
      "text/plain": [
       "   forecast(Basic Transformer)  forecast(VAR)   Real value\n",
       "0                    2973.1309    2907.686095  2945.270020\n",
       "1                    2971.2690    2909.650510  2968.330078\n",
       "2                    2969.7253    2894.269330  2973.250000\n",
       "3                    2970.8810    2890.834679  2991.719971\n",
       "4                    2975.6543    2890.018851  3001.800049"
      ]
     },
     "execution_count": 4,
     "metadata": {},
     "output_type": "execute_result"
    }
   ],
   "source": [
    "compare_KOSPI_res = pd.read_csv('./비교모델 결과(KOSPI).csv')\n",
    "compare_KOSPI_res.head()"
   ]
  },
  {
   "cell_type": "code",
   "execution_count": 5,
   "id": "09f2ee14-b508-444d-86a1-d0c0b3a9f3fc",
   "metadata": {},
   "outputs": [
    {
     "data": {
      "text/html": [
       "<div>\n",
       "<style scoped>\n",
       "    .dataframe tbody tr th:only-of-type {\n",
       "        vertical-align: middle;\n",
       "    }\n",
       "\n",
       "    .dataframe tbody tr th {\n",
       "        vertical-align: top;\n",
       "    }\n",
       "\n",
       "    .dataframe thead th {\n",
       "        text-align: right;\n",
       "    }\n",
       "</style>\n",
       "<table border=\"1\" class=\"dataframe\">\n",
       "  <thead>\n",
       "    <tr style=\"text-align: right;\">\n",
       "      <th></th>\n",
       "      <th>forecast(MEaI Transformer)</th>\n",
       "      <th>Real value</th>\n",
       "    </tr>\n",
       "  </thead>\n",
       "  <tbody>\n",
       "    <tr>\n",
       "      <th>0</th>\n",
       "      <td>2945.3057</td>\n",
       "      <td>2945.270020</td>\n",
       "    </tr>\n",
       "    <tr>\n",
       "      <th>1</th>\n",
       "      <td>2963.1846</td>\n",
       "      <td>2968.330078</td>\n",
       "    </tr>\n",
       "    <tr>\n",
       "      <th>2</th>\n",
       "      <td>2975.3955</td>\n",
       "      <td>2973.250000</td>\n",
       "    </tr>\n",
       "    <tr>\n",
       "      <th>3</th>\n",
       "      <td>2975.5230</td>\n",
       "      <td>2991.719971</td>\n",
       "    </tr>\n",
       "    <tr>\n",
       "      <th>4</th>\n",
       "      <td>2986.4072</td>\n",
       "      <td>3001.800049</td>\n",
       "    </tr>\n",
       "  </tbody>\n",
       "</table>\n",
       "</div>"
      ],
      "text/plain": [
       "   forecast(MEaI Transformer)   Real value\n",
       "0                   2945.3057  2945.270020\n",
       "1                   2963.1846  2968.330078\n",
       "2                   2975.3955  2973.250000\n",
       "3                   2975.5230  2991.719971\n",
       "4                   2986.4072  3001.800049"
      ]
     },
     "execution_count": 5,
     "metadata": {},
     "output_type": "execute_result"
    }
   ],
   "source": [
    "MEaI_KOSPI_res = pd.read_csv('./MEaI 결과(KOSPI).csv')\n",
    "MEaI_KOSPI_res.head()"
   ]
  },
  {
   "cell_type": "code",
   "execution_count": 6,
   "id": "afcedadc-3d9d-4b88-b3d1-6c05b5621fc2",
   "metadata": {},
   "outputs": [
    {
     "data": {
      "image/png": "[encoded data removed]",
      "text/plain": [
       "<Figure size 1000x600 with 1 Axes>"
      ]
     },
     "metadata": {},
     "output_type": "display_data"
    }
   ],
   "source": [
    "KOSPI_data = pd.read_csv('./data/kospi_financeIndex_and_stock.csv')[['Date','KOSPI']]\n",
    "ax_xlabels = KOSPI_data.Date.to_numpy()[-31:]\n",
    "KOSPI_data.drop(columns='Date',inplace=True)\n",
    "\n",
    "fig = plt.figure(figsize = (10,6))\n",
    "ax = fig.add_subplot()\n",
    "\n",
    "ax.plot(np.arange(30),KOSPI_data.iloc[-31:-1].reset_index(drop=True), color='black' , label = 'KOSPI')\n",
    "#ax.plot(compare_KOSPI_res['Real value'], color='black' , label = 'KOSPI')\n",
    "ax.vlines(10,2830,3050,linestyles='dashed',color='red',alpha=0.5)\n",
    "\n",
    "ax.plot(np.arange(10,30),compare_KOSPI_res['forecast(VAR)'], color='C0' , label = 'forecast(VAR)')\n",
    "ax.plot(np.arange(10,30),compare_KOSPI_res['forecast(Basic Transformer)'], color='C1' , label = 'forecast(Basic Transformer)')\n",
    "ax.plot(np.arange(10,30),MEaI_KOSPI_res['forecast(MEaI Transformer)'], color='C2' , label = 'forecast(Our Model)')\n",
    "\n",
    "ax.set_ylabel('KOSPI 지수')\n",
    "ax.legend()\n",
    "ax.yaxis.set_major_formatter(ticker.EngFormatter())\n",
    "positions = [0, 5, 10, 15, 20, 25, 30]\n",
    "labels = [ax_xlabels[i] for i in positions]\n",
    "ax.xaxis.set_major_locator(ticker.FixedLocator(positions))\n",
    "ax.set_xticklabels(labels, rotation=30)\n",
    "ax.set_title('Forecast KOSPI')\n",
    "\n",
    "plt.savefig(f'{IMG_PATH}/KOSPI.png')\n",
    "plt.show()"
   ]
  },
  {
   "cell_type": "code",
   "execution_count": 7,
   "id": "f775a63d-2a3c-4226-8c40-a392b7a8c1d1",
   "metadata": {},
   "outputs": [
    {
     "name": "stdout",
     "output_type": "stream",
     "text": [
      "(20,)\n",
      "(20,)\n",
      "(20,)\n"
     ]
    }
   ],
   "source": [
    "Real_values = KOSPI_data.iloc[-21:-1].to_numpy().reshape(-1)\n",
    "res_var = compare_KOSPI_res['forecast(VAR)'].to_numpy().reshape(-1)\n",
    "res_BT = compare_KOSPI_res['forecast(Basic Transformer)'].to_numpy().reshape(-1)\n",
    "res_MEaI = MEaI_KOSPI_res['forecast(MEaI Transformer)'].to_numpy().reshape(-1)\n",
    "\n",
    "print(res_var.shape)\n",
    "print(res_BT.shape)\n",
    "print(res_MEaI.shape)\n"
   ]
  },
  {
   "cell_type": "code",
   "execution_count": 8,
   "id": "5468cb51-9207-4a6c-84af-4881b64e773f",
   "metadata": {},
   "outputs": [
    {
     "data": {
      "text/html": [
       "<div>\n",
       "<style scoped>\n",
       "    .dataframe tbody tr th:only-of-type {\n",
       "        vertical-align: middle;\n",
       "    }\n",
       "\n",
       "    .dataframe tbody tr th {\n",
       "        vertical-align: top;\n",
       "    }\n",
       "\n",
       "    .dataframe thead th {\n",
       "        text-align: right;\n",
       "    }\n",
       "</style>\n",
       "<table border=\"1\" class=\"dataframe\">\n",
       "  <thead>\n",
       "    <tr style=\"text-align: right;\">\n",
       "      <th></th>\n",
       "      <th>VAR</th>\n",
       "      <th>Basic Transformer</th>\n",
       "      <th>Our Model</th>\n",
       "    </tr>\n",
       "  </thead>\n",
       "  <tbody>\n",
       "    <tr>\n",
       "      <th>MSE</th>\n",
       "      <td>10159.615230</td>\n",
       "      <td>836.001608</td>\n",
       "      <td>327.135440</td>\n",
       "    </tr>\n",
       "    <tr>\n",
       "      <th>MAE</th>\n",
       "      <td>97.988233</td>\n",
       "      <td>24.323815</td>\n",
       "      <td>14.203199</td>\n",
       "    </tr>\n",
       "    <tr>\n",
       "      <th>MAPE</th>\n",
       "      <td>3.268230</td>\n",
       "      <td>0.809870</td>\n",
       "      <td>0.473521</td>\n",
       "    </tr>\n",
       "  </tbody>\n",
       "</table>\n",
       "</div>"
      ],
      "text/plain": [
       "               VAR  Basic Transformer   Our Model\n",
       "MSE   10159.615230         836.001608  327.135440\n",
       "MAE      97.988233          24.323815   14.203199\n",
       "MAPE      3.268230           0.809870    0.473521"
      ]
     },
     "execution_count": 8,
     "metadata": {},
     "output_type": "execute_result"
    }
   ],
   "source": [
    "result = np.array([\n",
    "    [np.mean((Real_values - res_var)**2),np.mean((Real_values - res_BT)**2),np.mean((Real_values - res_MEaI)**2)],\n",
    "    [np.mean(abs(Real_values - res_var)),np.mean(abs(Real_values - res_BT)),np.mean(abs(Real_values - res_MEaI))],\n",
    "    [np.mean(abs(Real_values - res_var)/Real_values)*100,np.mean(abs(Real_values - res_BT)/Real_values)*100,np.mean(abs(Real_values - res_MEaI)/Real_values)*100]\n",
    "])\n",
    "\n",
    "\n",
    "pd.DataFrame(result,columns=['VAR','Basic Transformer','Our Model'],index=['MSE','MAE','MAPE'])"
   ]
  },
  {
   "cell_type": "code",
   "execution_count": 59,
   "id": "e14e83bf-a1bb-4b36-8ff2-e1b9e54f2923",
   "metadata": {},
   "outputs": [
    {
     "data": {
      "text/plain": [
       "array([ 2.87748 ,  2.089578,  3.2966  , 19.428671, 27.143349, 51.730668,\n",
       "       36.01218 , 19.798112,  4.548551,  9.067093, 23.406712, 32.94198 ,\n",
       "       20.2295  ,  5.139971,  4.06668 , 14.143922, 28.753132, 14.202649,\n",
       "       37.34099 ,  4.586139])"
      ]
     },
     "execution_count": 59,
     "metadata": {},
     "output_type": "execute_result"
    }
   ],
   "source": [
    "abs(Real_values - res_MEaI)"
   ]
  },
  {
   "cell_type": "code",
   "execution_count": 60,
   "id": "994bae5b-ce1c-4aef-939c-0da994fe7cc8",
   "metadata": {},
   "outputs": [
    {
     "data": {
      "text/plain": [
       "array([2945.27002 , 2968.330078, 2973.25    , 2991.719971, 3001.800049,\n",
       "       3029.570068, 3010.22998 , 3001.659912, 2987.949951, 2989.389893,\n",
       "       3006.409912, 3017.72998 , 2963.      , 2975.030029, 2984.47998 ,\n",
       "       2998.169922, 3012.429932, 2999.550049, 3020.23999 , 2993.290039])"
      ]
     },
     "execution_count": 60,
     "metadata": {},
     "output_type": "execute_result"
    }
   ],
   "source": [
    "Real_values"
   ]
  },
  {
   "cell_type": "code",
   "execution_count": 61,
   "id": "84e11384-9090-4436-a4af-03f401ff8387",
   "metadata": {},
   "outputs": [
    {
     "data": {
      "text/plain": [
       "array([2948.1475, 2966.2405, 2969.9534, 2972.2913, 2974.6567, 2977.8394,\n",
       "       2974.2178, 2981.8618, 2983.4014, 2980.3228, 2983.0032, 2984.788 ,\n",
       "       2983.2295, 2980.17  , 2980.4133, 2984.026 , 2983.6768, 2985.3474,\n",
       "       2982.899 , 2988.7039])"
      ]
     },
     "execution_count": 61,
     "metadata": {},
     "output_type": "execute_result"
    }
   ],
   "source": [
    "res_MEaI"
   ]
  }
 ],
 "metadata": {
  "kernelspec": {
   "display_name": "Python 3 (ipykernel)",
   "language": "python",
   "name": "python3"
  },
  "language_info": {
   "codemirror_mode": {
    "name": "ipython",
    "version": 3
   },
   "file_extension": ".py",
   "mimetype": "text/x-python",
   "name": "python",
   "nbconvert_exporter": "python",
   "pygments_lexer": "ipython3",
   "version": "3.9.13"
  }
 },
 "nbformat": 4,
 "nbformat_minor": 5
}
